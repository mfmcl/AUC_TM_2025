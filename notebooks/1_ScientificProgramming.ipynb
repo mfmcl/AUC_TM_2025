{
 "cells": [
  {
   "cell_type": "markdown",
   "metadata": {
    "collapsed": true
   },
   "source": [
    "# Scientific Programming"
   ]
  },
  {
   "cell_type": "code",
   "execution_count": 6,
   "metadata": {},
   "outputs": [],
   "source": [
    "## Notebook settings\n",
    "\n",
    "# multiple lines of output per cell\n",
    "from IPython.core.interactiveshell import InteractiveShell\n",
    "\n",
    "InteractiveShell.ast_node_interactivity = \"all\""
   ]
  },
  {
   "cell_type": "markdown",
   "metadata": {},
   "source": [
    ">### Today\n",
    ">\n",
    "> - Scientific programming\n",
    ">    - [NumPy](#NumPy)\n",
    ">    - [Matplotlib](#Matplotlib)\n",
    "> \n",
    ">\n",
    "> - Regular expressions (another notebook)"
   ]
  },
  {
   "cell_type": "markdown",
   "metadata": {},
   "source": [
    "## A Sample of Python Libraries for Scientific Programming\n",
    "\n",
    "In addition to the Standard Library, `python.org` offers an ever-growing collection of freely available components that are constantly upgraded, tested and updated. There are many modules, packages and programs available from [PyPI](https://pypi.python.org/pypi) - the Python Package Index. "
   ]
  },
  {
   "cell_type": "markdown",
   "metadata": {},
   "source": [
    "These libraries are developed either to extend the functionalities of Python, or as more specialized/efficient version of existing modules (or both). In the remaining of this tutorial we will briefly introduce two fundamental packages for scientific computing with Python: **NumPy** and **matplotlib**."
   ]
  },
  {
   "cell_type": "markdown",
   "metadata": {},
   "source": [
    "## NumPy\n",
    "\n",
    "The **Num**eric(al) **Py**thon package is the core library for scientific computing in Python. It enriches Python with high performance data structures, as well as with function to manipulate such data structures and for a whole range of numerical routines. \n",
    "\n",
    "**SciPy**, another core scientific package provides a wide inventory on functions that, by operating on NumPy arrays, can be used for a range of scientific applications."
   ]
  },
  {
   "cell_type": "code",
   "execution_count": 7,
   "metadata": {},
   "outputs": [],
   "source": [
    "# when imported, numpy is usually renamed as \"np\".\n",
    "import numpy as np"
   ]
  },
  {
   "cell_type": "markdown",
   "metadata": {},
   "source": [
    "#### Arrays\n",
    "\n",
    "**ndarrays** (i.e. *N*-dimensional arrays) are the main data structure on which NumPy is based. \n",
    "\n",
    "ndarrays are **multidimensional** **homogeneous** arrays composed by a **predetermined number** of items:\n",
    "\n",
    "\n",
    "- the dimensionality of an ndarray is defined by its **shape** (i.e., a tuple of integers specifying the size of each dimension, a.k.a. *axes*). The number of axes of an array is called its **rank**. \n",
    "\n",
    "\n",
    "- Sometimes \"dimension\" is used interchangeably for the shape and the rank of an array.\n",
    "\n",
    "\n",
    "- Ndarrays are composed by items of the same type. In NumPy arrays, types are defined by the object **dtype** (data-type), and each array is associated to one and only one dtype.\n",
    "\n",
    "\n",
    "- When a ndarray is created, its size is defined and cannot be changed."
   ]
  },
  {
   "cell_type": "markdown",
   "metadata": {},
   "source": [
    "NumPy arrays can be created in many different ways, among which by passing a regular Python list or tuple to the `array()` function:"
   ]
  },
  {
   "cell_type": "code",
   "execution_count": 8,
   "metadata": {},
   "outputs": [
    {
     "name": "stdout",
     "output_type": "stream",
     "text": [
      "[1 2 3 4 5 6]\n"
     ]
    }
   ],
   "source": [
    "# let's create a rank-1 array (i.e. a vector)\n",
    "a = np.array([1, 2, 3, 4, 5, 6])\n",
    "print(a)"
   ]
  },
  {
   "cell_type": "code",
   "execution_count": 9,
   "metadata": {
    "scrolled": true
   },
   "outputs": [
    {
     "data": {
      "text/plain": [
       "numpy.ndarray"
      ]
     },
     "execution_count": 9,
     "metadata": {},
     "output_type": "execute_result"
    }
   ],
   "source": [
    "# let's verify that this is a numpy array\n",
    "type(a)"
   ]
  },
  {
   "cell_type": "code",
   "execution_count": 10,
   "metadata": {},
   "outputs": [
    {
     "data": {
      "text/plain": [
       "1"
      ]
     },
     "execution_count": 10,
     "metadata": {},
     "output_type": "execute_result"
    }
   ],
   "source": [
    "# this is a rank-1 array\n",
    "a.ndim"
   ]
  },
  {
   "cell_type": "code",
   "execution_count": 11,
   "metadata": {},
   "outputs": [
    {
     "data": {
      "text/plain": [
       "(6,)"
      ]
     },
     "execution_count": 11,
     "metadata": {},
     "output_type": "execute_result"
    }
   ],
   "source": [
    "# its only axis has shape [6]\n",
    "a.shape"
   ]
  },
  {
   "cell_type": "code",
   "execution_count": 12,
   "metadata": {},
   "outputs": [
    {
     "data": {
      "text/plain": [
       "dtype('int64')"
      ]
     },
     "execution_count": 12,
     "metadata": {},
     "output_type": "execute_result"
    }
   ],
   "source": [
    "# if not explicitly specified, array() automatically infers the dtype on the basis of the type of the\n",
    "# elements in the list\n",
    "a.dtype"
   ]
  },
  {
   "cell_type": "code",
   "execution_count": 13,
   "metadata": {},
   "outputs": [
    {
     "name": "stdout",
     "output_type": "stream",
     "text": [
      "1 3 6\n"
     ]
    }
   ],
   "source": [
    "# indexing can be used to access values...\n",
    "print(a[0], a[2], a[5])"
   ]
  },
  {
   "cell_type": "code",
   "execution_count": 14,
   "metadata": {
    "scrolled": true
   },
   "outputs": [
    {
     "data": {
      "text/plain": [
       "array([1, 9, 3, 4, 5, 6])"
      ]
     },
     "execution_count": 14,
     "metadata": {},
     "output_type": "execute_result"
    }
   ],
   "source": [
    "# ... or to change them\n",
    "a[1] = 9\n",
    "a"
   ]
  },
  {
   "cell_type": "code",
   "execution_count": 15,
   "metadata": {},
   "outputs": [
    {
     "data": {
      "text/plain": [
       "array([[1, 9],\n",
       "       [3, 4],\n",
       "       [5, 6]])"
      ]
     },
     "execution_count": 15,
     "metadata": {},
     "output_type": "execute_result"
    }
   ],
   "source": [
    "# the rank of an array can be changed, e.g. into  2-rank array with 3 rows and 2 columns\n",
    "# NB: row*col must be equal to no. of elements (6 here)\n",
    "a.reshape(3, 2)"
   ]
  },
  {
   "cell_type": "code",
   "execution_count": 16,
   "metadata": {},
   "outputs": [
    {
     "name": "stdout",
     "output_type": "stream",
     "text": [
      "[[1 2 3]\n",
      " [4 5 6]\n",
      " [7 8 9]]\n",
      "2\n",
      "(3, 3)\n"
     ]
    }
   ],
   "source": [
    "# the same syntax can be used to create rank 2 arrays\n",
    "b = np.array([[1, 2, 3], [4, 5, 6], [7, 8, 9]])\n",
    "print(b)\n",
    "print(b.ndim)\n",
    "print(b.shape)"
   ]
  },
  {
   "cell_type": "code",
   "execution_count": 17,
   "metadata": {},
   "outputs": [
    {
     "name": "stdout",
     "output_type": "stream",
     "text": [
      "1\n",
      "8\n"
     ]
    }
   ],
   "source": [
    "# but indexing is a bit more articulated\n",
    "print(b[0, 0])\n",
    "print(b[2, 1])"
   ]
  },
  {
   "cell_type": "markdown",
   "metadata": {},
   "source": [
    "The `dtype` option can be used to specify to the `array()` function which type of elements are in the array (see the [NumPy documentation](https://docs.scipy.org/doc/numpy-1.10.1/user/basics.types.html) for the full list of supported data-types):"
   ]
  },
  {
   "cell_type": "code",
   "execution_count": 18,
   "metadata": {},
   "outputs": [
    {
     "name": "stdout",
     "output_type": "stream",
     "text": [
      "[[1. 2. 3.]\n",
      " [4. 5. 6.]\n",
      " [7. 8. 9.]]\n"
     ]
    }
   ],
   "source": [
    "c = np.array([[1, 2, 3], [4, 5, 6], [7, 8, 9]], dtype=\"float32\")\n",
    "print(c)"
   ]
  },
  {
   "cell_type": "markdown",
   "metadata": {},
   "source": [
    "Arrays with some initial content can be created by using different functions, depending on the **initial value**..."
   ]
  },
  {
   "cell_type": "code",
   "execution_count": 19,
   "metadata": {},
   "outputs": [
    {
     "name": "stdout",
     "output_type": "stream",
     "text": [
      "[[0. 0. 0. 0.]\n",
      " [0. 0. 0. 0.]\n",
      " [0. 0. 0. 0.]]\n"
     ]
    }
   ],
   "source": [
    "# 2-rank array of zeros\n",
    "a = np.zeros((3, 4))\n",
    "print(a)"
   ]
  },
  {
   "cell_type": "code",
   "execution_count": 20,
   "metadata": {},
   "outputs": [
    {
     "name": "stdout",
     "output_type": "stream",
     "text": [
      "[[1. 1. 1. 1.]\n",
      " [1. 1. 1. 1.]\n",
      " [1. 1. 1. 1.]]\n"
     ]
    }
   ],
   "source": [
    "# 2-rank array of ones\n",
    "b = np.ones((3, 4))\n",
    "print(b)"
   ]
  },
  {
   "cell_type": "code",
   "execution_count": 21,
   "metadata": {},
   "outputs": [
    {
     "name": "stdout",
     "output_type": "stream",
     "text": [
      "[[14.05 14.05 14.05 14.05]\n",
      " [14.05 14.05 14.05 14.05]\n",
      " [14.05 14.05 14.05 14.05]]\n"
     ]
    }
   ],
   "source": [
    "# 2-rank array with an user-selected initial value\n",
    "c = np.full((3, 4), 14.05)\n",
    "print(c)"
   ]
  },
  {
   "cell_type": "markdown",
   "metadata": {},
   "source": [
    "... or on the **function** used to generate the initial values:"
   ]
  },
  {
   "cell_type": "code",
   "execution_count": 22,
   "metadata": {},
   "outputs": [
    {
     "name": "stdout",
     "output_type": "stream",
     "text": [
      "[[[0.60616883 0.05254467 0.89725651 0.17369175]\n",
      "  [0.46182073 0.75672422 0.91438126 0.15799428]\n",
      "  [0.69379768 0.6044033  0.72562854 0.22692941]]\n",
      "\n",
      " [[0.66316636 0.67979861 0.18531632 0.05517556]\n",
      "  [0.89327916 0.10506124 0.74306288 0.18227991]\n",
      "  [0.31084793 0.1489245  0.63264066 0.84976652]]]\n"
     ]
    }
   ],
   "source": [
    "# 3-rank array with random values\n",
    "d = np.random.random((2, 3, 4))\n",
    "print(d)"
   ]
  },
  {
   "cell_type": "markdown",
   "metadata": {},
   "source": [
    "NumPy display arrays according to the following rules:\n",
    "\n",
    "- the last axis is printed left to right\n",
    "\n",
    "- the second-to-last is printed top to bottom\n",
    "\n",
    "- the rest are printed top to bottom as well, but the slices are separated by empty lines"
   ]
  },
  {
   "cell_type": "markdown",
   "metadata": {},
   "source": [
    "#### Array Indexing\n",
    "\n",
    "1-rank array indexing, slicing and iteration works much as for the normal Python lists:"
   ]
  },
  {
   "cell_type": "code",
   "execution_count": 23,
   "metadata": {},
   "outputs": [
    {
     "name": "stdout",
     "output_type": "stream",
     "text": [
      "3\n",
      "[3 4 5]\n",
      "1\n",
      "2\n",
      "3\n",
      "4\n",
      "5\n",
      "6\n"
     ]
    }
   ],
   "source": [
    "a = np.array([1, 2, 3, 4, 5, 6])\n",
    "print(a[2])\n",
    "print(a[2:5])\n",
    "for v in a:\n",
    "    print(v)"
   ]
  },
  {
   "cell_type": "markdown",
   "metadata": {},
   "source": [
    "When dealing with multidimensional arrays (i.e. rank > 1), it is necessary to specify an index or a slice **for each dimension**:"
   ]
  },
  {
   "cell_type": "code",
   "execution_count": 24,
   "metadata": {},
   "outputs": [
    {
     "name": "stdout",
     "output_type": "stream",
     "text": [
      "(3, 3)\n",
      "[[1 2 3]\n",
      " [4 5 6]\n",
      " [7 8 9]]\n",
      "--------\n",
      "5\n",
      "--------\n",
      "[[1 2 3]\n",
      " [4 5 6]]\n",
      "--------\n",
      "[[2 3]\n",
      " [5 6]\n",
      " [8 9]]\n",
      "--------\n",
      "[[2 3]\n",
      " [5 6]]\n"
     ]
    }
   ],
   "source": [
    "a = np.array([[1, 2, 3], [4, 5, 6], [7, 8, 9]])\n",
    "print(a.shape)\n",
    "\n",
    "print(a)\n",
    "print(\"--------\")\n",
    "print(a[1, 1])\n",
    "print(\"--------\")\n",
    "print(a[0:2])\n",
    "print(\"--------\")\n",
    "print(a[:, 1:3])\n",
    "print(\"--------\")\n",
    "print(a[0:2, 1:3])"
   ]
  },
  {
   "cell_type": "code",
   "execution_count": 25,
   "metadata": {},
   "outputs": [
    {
     "name": "stdout",
     "output_type": "stream",
     "text": [
      "[[1 2 3]\n",
      " [4 5 6]]\n"
     ]
    }
   ],
   "source": [
    "# unspecified indices works the same as with normal lists\n",
    "print(a[:2, :3])"
   ]
  },
  {
   "cell_type": "code",
   "execution_count": 26,
   "metadata": {},
   "outputs": [
    {
     "name": "stdout",
     "output_type": "stream",
     "text": [
      "[4 5 6]\n"
     ]
    }
   ],
   "source": [
    "# missing indices are considered complete slices\n",
    "print(a[1])"
   ]
  },
  {
   "cell_type": "code",
   "execution_count": 27,
   "metadata": {},
   "outputs": [
    {
     "name": "stdout",
     "output_type": "stream",
     "text": [
      "[7 8 9]\n"
     ]
    }
   ],
   "source": [
    "# negative indices can be used as well\n",
    "print(a[-1])"
   ]
  },
  {
   "cell_type": "markdown",
   "metadata": {},
   "source": [
    "The iteration over multidimensional arrays starts always with respect to the first axis:"
   ]
  },
  {
   "cell_type": "code",
   "execution_count": 28,
   "metadata": {},
   "outputs": [
    {
     "name": "stdout",
     "output_type": "stream",
     "text": [
      "[1 2 3]\n",
      "[4 5 6]\n",
      "[7 8 9]\n"
     ]
    }
   ],
   "source": [
    "for v in a:\n",
    "    print(v)"
   ]
  },
  {
   "cell_type": "markdown",
   "metadata": {},
   "source": [
    "**boolean indexing** allows you to pick out all the array elements that satisfy a given condition"
   ]
  },
  {
   "cell_type": "code",
   "execution_count": 29,
   "metadata": {},
   "outputs": [
    {
     "name": "stdout",
     "output_type": "stream",
     "text": [
      "[[False  True False]\n",
      " [ True False  True]\n",
      " [False  True False]]\n"
     ]
    }
   ],
   "source": [
    "# let's create a boolean array of the same shape as \"a\", where each slot tells us if\n",
    "# that element of \"a\" is an even number\n",
    "even_idx = a % 2 == 0\n",
    "print(even_idx)"
   ]
  },
  {
   "cell_type": "code",
   "execution_count": 30,
   "metadata": {},
   "outputs": [
    {
     "name": "stdout",
     "output_type": "stream",
     "text": [
      "[2 4 6 8]\n"
     ]
    }
   ],
   "source": [
    "# let's extract the even numbers in our array\n",
    "print(a[even_idx])"
   ]
  },
  {
   "cell_type": "markdown",
   "metadata": {},
   "source": [
    "#### Basic Math \n",
    "\n",
    "Basic mathematical functions apply element-wise:"
   ]
  },
  {
   "cell_type": "code",
   "execution_count": 31,
   "metadata": {},
   "outputs": [
    {
     "name": "stdout",
     "output_type": "stream",
     "text": [
      "[[15.05 15.05 15.05 15.05]\n",
      " [15.05 15.05 15.05 15.05]\n",
      " [15.05 15.05 15.05 15.05]]\n"
     ]
    }
   ],
   "source": [
    "# e.g. for the sum\n",
    "print(b + c)"
   ]
  },
  {
   "cell_type": "code",
   "execution_count": 32,
   "metadata": {},
   "outputs": [
    {
     "name": "stdout",
     "output_type": "stream",
     "text": [
      "[[14.05 14.05 14.05 14.05]\n",
      " [14.05 14.05 14.05 14.05]\n",
      " [14.05 14.05 14.05 14.05]]\n"
     ]
    }
   ],
   "source": [
    "# element-wise multiplication\n",
    "print(b * c)"
   ]
  },
  {
   "cell_type": "markdown",
   "metadata": {},
   "source": [
    "The function `dot()` can be used to calculate the inner product:"
   ]
  },
  {
   "cell_type": "code",
   "execution_count": 33,
   "metadata": {},
   "outputs": [
    {
     "name": "stdout",
     "output_type": "stream",
     "text": [
      "219\n"
     ]
    }
   ],
   "source": [
    "# inner product of rank 1 matrices, or vectors (returns a number, i.e. a scalar)\n",
    "print(np.dot(np.array([9, 10]), np.array([11, 12])))"
   ]
  },
  {
   "cell_type": "code",
   "execution_count": 34,
   "metadata": {},
   "outputs": [
    {
     "name": "stdout",
     "output_type": "stream",
     "text": [
      "[ 1 -3]\n"
     ]
    }
   ],
   "source": [
    "# matrix-vector multiplication\n",
    "print(np.dot(np.array([[1, -1, 2], [0, -3, 1]]), np.array([2, 1, 0])))"
   ]
  },
  {
   "cell_type": "code",
   "execution_count": 35,
   "metadata": {},
   "outputs": [
    {
     "name": "stdout",
     "output_type": "stream",
     "text": [
      "[[  0 -10]\n",
      " [ -3  -1]]\n"
     ]
    }
   ],
   "source": [
    "# matrix-matrix multiplication\n",
    "print(np.dot(np.array([[0, 4, -2], [-4, -3, 0]]), np.array([[0, 1], [1, -1], [2, 3]])))"
   ]
  },
  {
   "cell_type": "markdown",
   "metadata": {},
   "source": [
    "Finally, Numpy functions allow to perform computation on arrays or to transform them"
   ]
  },
  {
   "cell_type": "code",
   "execution_count": 36,
   "metadata": {},
   "outputs": [
    {
     "name": "stdout",
     "output_type": "stream",
     "text": [
      "[[1. 1. 1. 1.]\n",
      " [1. 1. 1. 1.]\n",
      " [1. 1. 1. 1.]]\n",
      "--------\n",
      "12.0\n",
      "--------\n",
      "[3. 3. 3. 3.]\n",
      "--------\n",
      "[4. 4. 4.]\n"
     ]
    }
   ],
   "source": [
    "# compute the sum of all the elements along an axis\n",
    "print(b)\n",
    "print(\"--------\")\n",
    "print(np.sum(b))  # sum all element\n",
    "print(\"--------\")\n",
    "print(np.sum(b, axis=0))  # think: sum over and \"collapse\" axis 0 (= columns)\n",
    "print(\"--------\")\n",
    "print(np.sum(b, axis=1))  # think: sum over and \"collapse\" axis 1 (= rows)"
   ]
  },
  {
   "cell_type": "code",
   "execution_count": 37,
   "metadata": {},
   "outputs": [
    {
     "name": "stdout",
     "output_type": "stream",
     "text": [
      "(2, 3)\n",
      "[[0 1 2]\n",
      " [3 4 5]]\n",
      "--------\n",
      "(3, 2)\n",
      "[[0 3]\n",
      " [1 4]\n",
      " [2 5]]\n"
     ]
    }
   ],
   "source": [
    "# transpose of a matrix\n",
    "f = np.arange(6).reshape(2, 3)\n",
    "print(f.shape)\n",
    "print(f)\n",
    "print(\"--------\")\n",
    "f_transp = f.T\n",
    "print(f_transp.shape)\n",
    "print(f_transp)"
   ]
  },
  {
   "cell_type": "code",
   "execution_count": 38,
   "metadata": {},
   "outputs": [
    {
     "name": "stdout",
     "output_type": "stream",
     "text": [
      ">> 'regular' (rank 1) vector <<\n",
      "rank: 1\n",
      "shape: (5,)\n",
      "[0 1 2 3 4]\n",
      "--------\n",
      ">> column vector <<\n",
      "rank: 2\n",
      "shape: (5, 1)\n",
      "[[0]\n",
      " [1]\n",
      " [2]\n",
      " [3]\n",
      " [4]]\n",
      "--------\n",
      ">> row vector <<\n",
      "rank: 2\n",
      "shape: (1, 5)\n",
      "[[0 1 2 3 4]]\n"
     ]
    }
   ],
   "source": [
    "# 3 different types of vectors\n",
    "a_1 = np.arange(5)\n",
    "print(\">> 'regular' (rank 1) vector <<\")\n",
    "print(\"rank: \" + str(a_1.ndim))\n",
    "print(\"shape: \" + str(a_1.shape))\n",
    "print(a_1)\n",
    "print(\"--------\")\n",
    "\n",
    "a_2 = a_1.reshape(5, 1)\n",
    "print(\">> column vector <<\")\n",
    "print(\"rank: \" + str(a_2.ndim))\n",
    "print(\"shape: \" + str(a_2.shape))\n",
    "\n",
    "print(a_2)\n",
    "print(\"--------\")\n",
    "\n",
    "a_3 = a_2.reshape(1, 5)\n",
    "print(\">> row vector <<\")\n",
    "print(\"rank: \" + str(a_3.ndim))\n",
    "print(\"shape: \" + str(a_3.shape))\n",
    "print(a_3)"
   ]
  },
  {
   "cell_type": "markdown",
   "metadata": {},
   "source": [
    "`np.linalg` provides access to linear algebra functions, e.g., solvers, eigenvalues/vectors, norms and decompositions."
   ]
  },
  {
   "cell_type": "code",
   "execution_count": 39,
   "metadata": {},
   "outputs": [
    {
     "name": "stdout",
     "output_type": "stream",
     "text": [
      "[[1. 2.]\n",
      " [3. 4.]]\n",
      "[[-2.   1. ]\n",
      " [ 1.5 -0.5]]\n",
      "True\n",
      "--------\n",
      "-2.0000000000000004\n"
     ]
    }
   ],
   "source": [
    "# inverse of a matrix\n",
    "a = np.array([[1.0, 2.0], [3.0, 4.0]])\n",
    "print(a)\n",
    "print(np.linalg.inv(a))\n",
    "print(np.allclose(np.dot(a, np.linalg.inv(a)), np.eye(2)))\n",
    "print(\"--------\")\n",
    "print(np.linalg.det(a))"
   ]
  },
  {
   "cell_type": "markdown",
   "metadata": {},
   "source": [
    "---"
   ]
  },
  {
   "cell_type": "markdown",
   "metadata": {},
   "source": [
    "## Matplotlib\n",
    "\n",
    "matlotlib is a 2D **plotting library**. \n",
    " \n",
    "You can have an idea of the possibilities offered by this package by exploring the [examples](http://matplotlib.org/examples/index.html) section of the documentation\n",
    "\n",
    "The easiest way to drop plots with matplotlib it is by relying on the MATLAB-like interface provided by the `pyplot` module."
   ]
  },
  {
   "cell_type": "code",
   "execution_count": 40,
   "metadata": {},
   "outputs": [],
   "source": [
    "import matplotlib.pyplot as plt\n",
    "\n",
    "# to make plots in IPython using Matplotlib, you must first enable IPython's matplotlib mode\n",
    "# we may want to use the backend inline, that will embed plots inside the Notebook\n",
    "%matplotlib inline  "
   ]
  },
  {
   "cell_type": "markdown",
   "metadata": {},
   "source": [
    "##### Line plots\n",
    "\n",
    "Line plots represents the relationship between *x*-values and *y*-values by means of a line. \n",
    "\n",
    "Graphs of this sort can be drawn by using the [`.plot()` function](https://matplotlib.org/api/pyplot_api.html#matplotlib.pyplot.plot), with its default settings "
   ]
  },
  {
   "cell_type": "code",
   "execution_count": 41,
   "metadata": {},
   "outputs": [],
   "source": [
    "# make an array for the x-values and one array for the y-values\n",
    "x = np.arange(1, 150)\n",
    "y = np.log(x)"
   ]
  },
  {
   "cell_type": "code",
   "execution_count": 42,
   "metadata": {},
   "outputs": [
    {
     "data": {
      "text/plain": [
       "[<matplotlib.lines.Line2D at 0x7fafccd20d90>]"
      ]
     },
     "execution_count": 42,
     "metadata": {},
     "output_type": "execute_result"
    },
    {
     "data": {
      "image/png": "[encoded data removed]",
      "text/plain": [
       "<Figure size 640x480 with 1 Axes>"
      ]
     },
     "metadata": {},
     "output_type": "display_data"
    }
   ],
   "source": [
    "# let's create the plot\n",
    "plt.plot(x, y)"
   ]
  },
  {
   "cell_type": "code",
   "execution_count": 43,
   "metadata": {},
   "outputs": [
    {
     "data": {
      "text/plain": [
       "<Figure size 640x480 with 0 Axes>"
      ]
     },
     "metadata": {},
     "output_type": "display_data"
    }
   ],
   "source": [
    "# export the plot in a .pdf file\n",
    "plt.savefig(\"data/exemplar-lineplot.pdf\")"
   ]
  },
  {
   "cell_type": "code",
   "execution_count": 44,
   "metadata": {},
   "outputs": [
    {
     "data": {
      "text/plain": [
       "<Figure size 640x480 with 0 Axes>"
      ]
     },
     "metadata": {},
     "output_type": "display_data"
    }
   ],
   "source": [
    "# export the plot in a .png file\n",
    "plt.savefig(\"data/exemplar-lineplot.png\")"
   ]
  },
  {
   "cell_type": "markdown",
   "metadata": {},
   "source": [
    "Multiple calls of the `.plot()` function draw **multiple line plots** in the same figure \n",
    "\n",
    "(note that matplotlib will try to automatically manage many graphical parameters among which the axis size and the line colors)"
   ]
  },
  {
   "cell_type": "code",
   "execution_count": 45,
   "metadata": {},
   "outputs": [
    {
     "data": {
      "text/plain": [
       "[<matplotlib.lines.Line2D at 0x7fafc9e50d30>]"
      ]
     },
     "execution_count": 45,
     "metadata": {},
     "output_type": "execute_result"
    },
    {
     "data": {
      "text/plain": [
       "[<matplotlib.lines.Line2D at 0x7fafc9de0100>]"
      ]
     },
     "execution_count": 45,
     "metadata": {},
     "output_type": "execute_result"
    },
    {
     "data": {
      "image/png": "[encoded data removed]",
      "text/plain": [
       "<Figure size 640x480 with 1 Axes>"
      ]
     },
     "metadata": {},
     "output_type": "display_data"
    }
   ],
   "source": [
    "plt.plot(x, y)  # think of (x, y) as an array (of rank 2) being plotted\n",
    "plt.plot(x, y * 2)"
   ]
  },
  {
   "cell_type": "markdown",
   "metadata": {},
   "source": [
    "##### Scatterplots\n",
    "\n",
    "A scatterplot represents one or more groups of observations as points in a cartesian space. \n",
    "\n",
    "The [`scatter()` function](https://matplotlib.org/api/pyplot_api.html#matplotlib.pyplot.plot) implements a method to draw this kind of plots."
   ]
  },
  {
   "cell_type": "code",
   "execution_count": 46,
   "metadata": {},
   "outputs": [],
   "source": [
    "n = 100\n",
    "x = np.random.normal(0, 1, n)\n",
    "y = np.random.normal(0, 1, n)"
   ]
  },
  {
   "cell_type": "code",
   "execution_count": 47,
   "metadata": {},
   "outputs": [
    {
     "data": {
      "text/plain": [
       "<matplotlib.collections.PathCollection at 0x7fafc9d5b640>"
      ]
     },
     "execution_count": 47,
     "metadata": {},
     "output_type": "execute_result"
    },
    {
     "data": {
      "image/png": "[encoded data removed]",
      "text/plain": [
       "<Figure size 640x480 with 1 Axes>"
      ]
     },
     "metadata": {},
     "output_type": "display_data"
    }
   ],
   "source": [
    "plt.scatter(x, y)"
   ]
  },
  {
   "cell_type": "markdown",
   "metadata": {},
   "source": [
    "We can use different marker settings for `plot()` (marker type, size)"
   ]
  },
  {
   "cell_type": "code",
   "execution_count": 48,
   "metadata": {},
   "outputs": [
    {
     "data": {
      "text/plain": [
       "[<matplotlib.lines.Line2D at 0x7fafc9cde3d0>]"
      ]
     },
     "execution_count": 48,
     "metadata": {},
     "output_type": "execute_result"
    },
    {
     "data": {
      "image/png": "[encoded data removed]",
      "text/plain": [
       "<Figure size 640x480 with 1 Axes>"
      ]
     },
     "metadata": {},
     "output_type": "display_data"
    }
   ],
   "source": [
    "plt.plot(x, y, \".\")"
   ]
  },
  {
   "cell_type": "markdown",
   "metadata": {},
   "source": [
    "Color-coding (the default behavior of both `scatter()` and `plot()` allows you to plot different groups of data points:"
   ]
  },
  {
   "cell_type": "code",
   "execution_count": 49,
   "metadata": {},
   "outputs": [
    {
     "data": {
      "text/plain": [
       "<matplotlib.collections.PathCollection at 0x7fafc9ccb760>"
      ]
     },
     "execution_count": 49,
     "metadata": {},
     "output_type": "execute_result"
    },
    {
     "data": {
      "text/plain": [
       "<matplotlib.collections.PathCollection at 0x7fafc9ccbbb0>"
      ]
     },
     "execution_count": 49,
     "metadata": {},
     "output_type": "execute_result"
    },
    {
     "data": {
      "image/png": "[encoded data removed]",
      "text/plain": [
       "<Figure size 640x480 with 1 Axes>"
      ]
     },
     "metadata": {},
     "output_type": "display_data"
    }
   ],
   "source": [
    "plt.scatter(x, y)\n",
    "plt.scatter(\n",
    "    x * 2, y * 2\n",
    ")  # what's happening here? (hint: array-like input to scatter...)"
   ]
  },
  {
   "cell_type": "markdown",
   "metadata": {},
   "source": [
    "##### Manipulating the appearance of a plot\n",
    "\n",
    "Matplotlib allows you to manipulate almost every property of a plot: figure size and resolution, line appearance, axis and grid properties, textual elements ..."
   ]
  },
  {
   "cell_type": "code",
   "execution_count": 50,
   "metadata": {},
   "outputs": [],
   "source": [
    "x = np.arange(1, 150)\n",
    "y = np.log(x)"
   ]
  },
  {
   "cell_type": "markdown",
   "metadata": {},
   "source": [
    "You to change the appearance of the **line**\n",
    "\n",
    "(NOTE: See the [matplotlib documentation](https://matplotlib.org/users/colors.html) for a quick introduction on how a color can be specified by the user)"
   ]
  },
  {
   "cell_type": "code",
   "execution_count": 51,
   "metadata": {},
   "outputs": [
    {
     "data": {
      "text/plain": [
       "[<matplotlib.lines.Line2D at 0x7fafc9c3ec10>]"
      ]
     },
     "execution_count": 51,
     "metadata": {},
     "output_type": "execute_result"
    },
    {
     "data": {
      "text/plain": [
       "[<matplotlib.lines.Line2D at 0x7fafc9c3efa0>]"
      ]
     },
     "execution_count": 51,
     "metadata": {},
     "output_type": "execute_result"
    },
    {
     "data": {
      "text/plain": [
       "[<matplotlib.lines.Line2D at 0x7fafc9c4f2b0>]"
      ]
     },
     "execution_count": 51,
     "metadata": {},
     "output_type": "execute_result"
    },
    {
     "data": {
      "text/plain": [
       "[<matplotlib.lines.Line2D at 0x7fafc9c4f550>]"
      ]
     },
     "execution_count": 51,
     "metadata": {},
     "output_type": "execute_result"
    },
    {
     "data": {
      "image/png": "[encoded data removed]",
      "text/plain": [
       "<Figure size 640x480 with 1 Axes>"
      ]
     },
     "metadata": {},
     "output_type": "display_data"
    }
   ],
   "source": [
    "plt.plot(x, y * 2.5, color=\"r\")  # you can change the line color\n",
    "plt.plot(x, y * 2, linewidth=0.75)  # you can change the line width\n",
    "plt.plot(x, y * 1.5, linestyle=\"--\")  # you can change the line style\n",
    "plt.plot(x, y, marker=\"*\")  # you can change the marker style"
   ]
  },
  {
   "cell_type": "markdown",
   "metadata": {},
   "source": [
    "You can manually choose the **axis limits**, the **axis titles**, the **axis ticks** and **their text** (and plot a grid, if you like):"
   ]
  },
  {
   "cell_type": "code",
   "execution_count": 52,
   "metadata": {},
   "outputs": [
    {
     "data": {
      "text/plain": [
       "[<matplotlib.lines.Line2D at 0x7fafc9bd3610>]"
      ]
     },
     "execution_count": 52,
     "metadata": {},
     "output_type": "execute_result"
    },
    {
     "data": {
      "text/plain": [
       "(0.0, 7.0)"
      ]
     },
     "execution_count": 52,
     "metadata": {},
     "output_type": "execute_result"
    },
    {
     "data": {
      "text/plain": [
       "(-5.0, 155.0)"
      ]
     },
     "execution_count": 52,
     "metadata": {},
     "output_type": "execute_result"
    },
    {
     "data": {
      "text/plain": [
       "Text(0, 0.5, 'log (x)')"
      ]
     },
     "execution_count": 52,
     "metadata": {},
     "output_type": "execute_result"
    },
    {
     "data": {
      "text/plain": [
       "([<matplotlib.axis.XTick at 0x7fafc9ba99a0>,\n",
       "  <matplotlib.axis.XTick at 0x7fafc9ba9970>,\n",
       "  <matplotlib.axis.XTick at 0x7fafc9ba9310>,\n",
       "  <matplotlib.axis.XTick at 0x7fafc9bd3fd0>],\n",
       " [Text(0, 0, 'zero'),\n",
       "  Text(50, 0, 'fifty'),\n",
       "  Text(100, 0, 'one hundred'),\n",
       "  Text(150, 0, 'one hundred and fifty')])"
      ]
     },
     "execution_count": 52,
     "metadata": {},
     "output_type": "execute_result"
    },
    {
     "data": {
      "image/png": "[encoded data removed]",
      "text/plain": [
       "<Figure size 640x480 with 1 Axes>"
      ]
     },
     "metadata": {},
     "output_type": "display_data"
    }
   ],
   "source": [
    "plt.plot(x, y)\n",
    "\n",
    "# set the axis limits\n",
    "plt.ylim(0, 7)\n",
    "plt.xlim(-5, 155)  # set the x-axes limits\n",
    "\n",
    "# let's set the y-axis text\n",
    "plt.ylabel(\"log (x)\")\n",
    "\n",
    "# let's set the x-axis ticks and their text (in an awful way...)\n",
    "plt.xticks(\n",
    "    range(0, 151, 50),\n",
    "    [\"zero\", \"fifty\", \"one hundred\", \"one hundred and fifty\"],\n",
    "    size=\"small\",\n",
    ")\n",
    "\n",
    "# fancy a grid?\n",
    "plt.grid(True)"
   ]
  },
  {
   "cell_type": "markdown",
   "metadata": {},
   "source": [
    "You can give the plot a **main title** and add a **legend**"
   ]
  },
  {
   "cell_type": "code",
   "execution_count": 53,
   "metadata": {},
   "outputs": [
    {
     "data": {
      "text/plain": [
       "[<matplotlib.lines.Line2D at 0x7fafc9b4a5b0>]"
      ]
     },
     "execution_count": 53,
     "metadata": {},
     "output_type": "execute_result"
    },
    {
     "data": {
      "text/plain": [
       "[<matplotlib.lines.Line2D at 0x7fafc9b4a7c0>]"
      ]
     },
     "execution_count": 53,
     "metadata": {},
     "output_type": "execute_result"
    },
    {
     "data": {
      "text/plain": [
       "[<matplotlib.lines.Line2D at 0x7fafc9b4a8b0>]"
      ]
     },
     "execution_count": 53,
     "metadata": {},
     "output_type": "execute_result"
    },
    {
     "data": {
      "text/plain": [
       "Text(0.5, 1.0, 'Logarithms Comparison')"
      ]
     },
     "execution_count": 53,
     "metadata": {},
     "output_type": "execute_result"
    },
    {
     "data": {
      "text/plain": [
       "<matplotlib.legend.Legend at 0x7fafc9cbc670>"
      ]
     },
     "execution_count": 53,
     "metadata": {},
     "output_type": "execute_result"
    },
    {
     "data": {
      "image/png": "[encoded data removed]",
      "text/plain": [
       "<Figure size 640x480 with 1 Axes>"
      ]
     },
     "metadata": {},
     "output_type": "display_data"
    }
   ],
   "source": [
    "plt.plot(x, np.log10(x))\n",
    "plt.plot(x, np.log(x))\n",
    "plt.plot(x, np.log2(x))\n",
    "\n",
    "# create the main title\n",
    "plt.title(\"Logarithms Comparison\")\n",
    "\n",
    "# add a legend\n",
    "plt.legend([\"base 10\", \"natural\", \"base 2\"])"
   ]
  },
  {
   "cell_type": "markdown",
   "metadata": {},
   "source": [
    "You can also **annotate** some points that may be of any interest (see [this tutorial](https://matplotlib.org/users/annotations_intro.html))"
   ]
  },
  {
   "cell_type": "code",
   "execution_count": 54,
   "metadata": {},
   "outputs": [
    {
     "data": {
      "text/plain": [
       "[<matplotlib.lines.Line2D at 0x7fafc9a69af0>]"
      ]
     },
     "execution_count": 54,
     "metadata": {},
     "output_type": "execute_result"
    },
    {
     "data": {
      "text/plain": [
       "Text(35, 2, \"that's log(20) !\")"
      ]
     },
     "execution_count": 54,
     "metadata": {},
     "output_type": "execute_result"
    },
    {
     "data": {
      "image/png": "[encoded data removed]",
      "text/plain": [
       "<Figure size 640x480 with 1 Axes>"
      ]
     },
     "metadata": {},
     "output_type": "display_data"
    }
   ],
   "source": [
    "plt.plot(x, y)\n",
    "plt.annotate(\n",
    "    \"that's log(20) !\",\n",
    "    xy=(20, np.log(20)),\n",
    "    xytext=(35, 2),\n",
    "    arrowprops=dict(facecolor=\"r\", edgecolor=\"None\", shrink=0.1),\n",
    ")"
   ]
  },
  {
   "cell_type": "markdown",
   "metadata": {},
   "source": [
    "##### Bar plots\n",
    "\n",
    "Unfortunately, humans are quite bad at comparing angles, so a better way to compare the frequencies of categorical data is to use bar plots. In these graphs:\n",
    "\n",
    "- every bar is associated with a given value\n",
    "\n",
    "\n",
    "- the height of each bar is proportional to the frequency of a given value\n",
    "\n",
    "\n",
    "- all the bars have the same width\n",
    "\n",
    "These plots can be drawn by using the [`bar()`](https://matplotlib.org/api/pyplot_api.html#matplotlib.pyplot.bar) or the [`barh()](https://matplotlib.org/api/pyplot_api.html#matplotlib.pyplot.barh) functions"
   ]
  },
  {
   "cell_type": "code",
   "execution_count": 55,
   "metadata": {},
   "outputs": [],
   "source": [
    "import string\n",
    "\n",
    "n = 12\n",
    "x = np.arange(n)\n",
    "y = np.random.uniform(0.5, 1.0, n)"
   ]
  },
  {
   "cell_type": "code",
   "execution_count": 56,
   "metadata": {},
   "outputs": [
    {
     "data": {
      "text/plain": [
       "<BarContainer object of 12 artists>"
      ]
     },
     "execution_count": 56,
     "metadata": {},
     "output_type": "execute_result"
    },
    {
     "data": {
      "text/plain": [
       "([<matplotlib.axis.XTick at 0x7fafc9a4c250>,\n",
       "  <matplotlib.axis.XTick at 0x7fafc9a4c0d0>,\n",
       "  <matplotlib.axis.XTick at 0x7fafc9a45be0>,\n",
       "  <matplotlib.axis.XTick at 0x7fafc9a0ceb0>,\n",
       "  <matplotlib.axis.XTick at 0x7fafc999cbe0>,\n",
       "  <matplotlib.axis.XTick at 0x7fafc999c4c0>,\n",
       "  <matplotlib.axis.XTick at 0x7fafc99a3ac0>,\n",
       "  <matplotlib.axis.XTick at 0x7fafc99aa5b0>,\n",
       "  <matplotlib.axis.XTick at 0x7fafc99aae20>,\n",
       "  <matplotlib.axis.XTick at 0x7fafc99afb50>,\n",
       "  <matplotlib.axis.XTick at 0x7fafc99a3370>,\n",
       "  <matplotlib.axis.XTick at 0x7fafc99b75b0>],\n",
       " [Text(0, 0, 'A'),\n",
       "  Text(1, 0, 'B'),\n",
       "  Text(2, 0, 'C'),\n",
       "  Text(3, 0, 'D'),\n",
       "  Text(4, 0, 'E'),\n",
       "  Text(5, 0, 'F'),\n",
       "  Text(6, 0, 'G'),\n",
       "  Text(7, 0, 'H'),\n",
       "  Text(8, 0, 'I'),\n",
       "  Text(9, 0, 'J'),\n",
       "  Text(10, 0, 'K'),\n",
       "  Text(11, 0, 'L')])"
      ]
     },
     "execution_count": 56,
     "metadata": {},
     "output_type": "execute_result"
    },
    {
     "data": {
      "image/png": "[encoded data removed]",
      "text/plain": [
       "<Figure size 640x480 with 1 Axes>"
      ]
     },
     "metadata": {},
     "output_type": "display_data"
    }
   ],
   "source": [
    "# vertical barplot\n",
    "plt.bar(x, y)\n",
    "plt.xticks(\n",
    "    x, list(string.ascii_uppercase[:n]), size=\"small\"\n",
    ")  # let's use some random letters for each value of a variable"
   ]
  },
  {
   "cell_type": "code",
   "execution_count": 57,
   "metadata": {},
   "outputs": [
    {
     "data": {
      "text/plain": [
       "<BarContainer object of 12 artists>"
      ]
     },
     "execution_count": 57,
     "metadata": {},
     "output_type": "execute_result"
    },
    {
     "data": {
      "text/plain": [
       "([<matplotlib.axis.YTick at 0x7fafc9973280>,\n",
       "  <matplotlib.axis.YTick at 0x7fafc996dbe0>,\n",
       "  <matplotlib.axis.YTick at 0x7fafc9c3ed90>,\n",
       "  <matplotlib.axis.YTick at 0x7fafc9931a60>,\n",
       "  <matplotlib.axis.YTick at 0x7fafc9931520>,\n",
       "  <matplotlib.axis.YTick at 0x7fafc993cb80>,\n",
       "  <matplotlib.axis.YTick at 0x7fafc9940670>,\n",
       "  <matplotlib.axis.YTick at 0x7fafc9940ee0>,\n",
       "  <matplotlib.axis.YTick at 0x7fafc9947c10>,\n",
       "  <matplotlib.axis.YTick at 0x7fafc9940070>,\n",
       "  <matplotlib.axis.YTick at 0x7fafc994e670>,\n",
       "  <matplotlib.axis.YTick at 0x7fafc994eee0>],\n",
       " [Text(0, 0, 'A'),\n",
       "  Text(0, 1, 'B'),\n",
       "  Text(0, 2, 'C'),\n",
       "  Text(0, 3, 'D'),\n",
       "  Text(0, 4, 'E'),\n",
       "  Text(0, 5, 'F'),\n",
       "  Text(0, 6, 'G'),\n",
       "  Text(0, 7, 'H'),\n",
       "  Text(0, 8, 'I'),\n",
       "  Text(0, 9, 'J'),\n",
       "  Text(0, 10, 'K'),\n",
       "  Text(0, 11, 'L')])"
      ]
     },
     "execution_count": 57,
     "metadata": {},
     "output_type": "execute_result"
    },
    {
     "data": {
      "image/png": "[encoded data removed]",
      "text/plain": [
       "<Figure size 640x480 with 1 Axes>"
      ]
     },
     "metadata": {},
     "output_type": "display_data"
    }
   ],
   "source": [
    "# horizontal barplot\n",
    "plt.barh(x, y)\n",
    "plt.yticks(x, list(string.ascii_uppercase[:n]), size=\"small\")"
   ]
  },
  {
   "cell_type": "markdown",
   "metadata": {
    "collapsed": true
   },
   "source": [
    "##### Histograms\n",
    "\n",
    "Roughly speaking, histogram are for continuous (a.k.a. numerical) variables what barplots are for categorical variables. Also in this kind of plot, indeed, values are represented by means of bars. However:\n",
    "\n",
    "\n",
    "- each bar is associated with a bin (i.e. an interval of values)\n",
    "\n",
    "\n",
    "- the area inside the bars (rather than their height) is proportional to the frequency of a value or of a set of values\n",
    "\n",
    "\n",
    "- the width of each bar is proportional to the bin size.\n",
    "\n",
    "\n",
    "\n",
    "The [`hist()`](https://matplotlib.org/api/pyplot_api.html#matplotlib.pyplot.hist) function implements most of the functionalities you'll need to plot histograms."
   ]
  },
  {
   "cell_type": "code",
   "execution_count": 58,
   "metadata": {},
   "outputs": [],
   "source": [
    "data = np.random.normal(-1, 1, 10000)"
   ]
  },
  {
   "cell_type": "code",
   "execution_count": 59,
   "metadata": {},
   "outputs": [
    {
     "data": {
      "image/png": "[encoded data removed]",
      "text/plain": [
       "<Figure size 640x480 with 1 Axes>"
      ]
     },
     "metadata": {},
     "output_type": "display_data"
    }
   ],
   "source": [
    "a = plt.hist(data, density=True, edgecolor=\"black\")"
   ]
  },
  {
   "cell_type": "markdown",
   "metadata": {},
   "source": [
    "the `bins` argument allows us to specify in how many bins we want to organize our values:"
   ]
  },
  {
   "cell_type": "code",
   "execution_count": 60,
   "metadata": {},
   "outputs": [
    {
     "data": {
      "text/plain": [
       "(array([0.00207085, 0.00069028, 0.00276113, 0.00345142, 0.0041417 ,\n",
       "        0.0082834 , 0.00966397, 0.01518624, 0.02139879, 0.03037247,\n",
       "        0.04003644, 0.06212551, 0.07662146, 0.0959494 , 0.12701216,\n",
       "        0.14495953, 0.17809313, 0.21329759, 0.24297978, 0.2919899 ,\n",
       "        0.31960124, 0.35135428, 0.41969234, 0.37206278, 0.37275307,\n",
       "        0.40795752, 0.37620448, 0.37344335, 0.33892918, 0.30234415,\n",
       "        0.30372472, 0.27611338, 0.23607694, 0.17050001, 0.16083605,\n",
       "        0.13391499, 0.10078138, 0.09525912, 0.06005466, 0.05177126,\n",
       "        0.03520446, 0.02692105, 0.01725709, 0.00897368, 0.0082834 ,\n",
       "        0.0041417 , 0.00276113, 0.00207085, 0.00207085, 0.00069028]),\n",
       " array([-4.64301838, -4.49815036, -4.35328233, -4.20841431, -4.06354628,\n",
       "        -3.91867826, -3.77381024, -3.62894221, -3.48407419, -3.33920617,\n",
       "        -3.19433814, -3.04947012, -2.9046021 , -2.75973407, -2.61486605,\n",
       "        -2.46999803, -2.32513   , -2.18026198, -2.03539395, -1.89052593,\n",
       "        -1.74565791, -1.60078988, -1.45592186, -1.31105384, -1.16618581,\n",
       "        -1.02131779, -0.87644977, -0.73158174, -0.58671372, -0.4418457 ,\n",
       "        -0.29697767, -0.15210965, -0.00724162,  0.1376264 ,  0.28249442,\n",
       "         0.42736245,  0.57223047,  0.71709849,  0.86196652,  1.00683454,\n",
       "         1.15170256,  1.29657059,  1.44143861,  1.58630663,  1.73117466,\n",
       "         1.87604268,  2.02091071,  2.16577873,  2.31064675,  2.45551478,\n",
       "         2.6003828 ]),\n",
       " <BarContainer object of 50 artists>)"
      ]
     },
     "execution_count": 60,
     "metadata": {},
     "output_type": "execute_result"
    },
    {
     "data": {
      "image/png": "[encoded data removed]",
      "text/plain": [
       "<Figure size 640x480 with 1 Axes>"
      ]
     },
     "metadata": {},
     "output_type": "display_data"
    }
   ],
   "source": [
    "plt.hist(data, bins=50, density=True, edgecolor=\"black\")"
   ]
  },
  {
   "cell_type": "code",
   "execution_count": 61,
   "metadata": {},
   "outputs": [
    {
     "data": {
      "text/plain": [
       "(array([0.00207085, 0.00207085, 0.00207085, 0.00207085, 0.        ,\n",
       "        0.        , 0.00207085, 0.00207085, 0.0041417 , 0.00207085,\n",
       "        0.0041417 , 0.0041417 , 0.00207085, 0.00207085, 0.0082834 ,\n",
       "        0.00621255, 0.0082834 , 0.01035425, 0.01035425, 0.00621255,\n",
       "        0.0124251 , 0.0165668 , 0.0165668 , 0.0124251 , 0.01449595,\n",
       "        0.02692105, 0.02277935, 0.01449595, 0.03313361, 0.04348786,\n",
       "        0.04762956, 0.03727531, 0.03520446, 0.06212551, 0.06833806,\n",
       "        0.05591296, 0.05384211, 0.07869231, 0.09732997, 0.07662146,\n",
       "        0.09940082, 0.11182592, 0.09318827, 0.12425102, 0.16359718,\n",
       "        0.13460527, 0.14703038, 0.15324293, 0.17188058, 0.18844738,\n",
       "        0.17395143, 0.21329759, 0.19465993, 0.23193524, 0.22986439,\n",
       "        0.2671397 , 0.23193524, 0.304415  , 0.24643119, 0.32512351,\n",
       "        0.32512351, 0.31269841, 0.32098181, 0.31891096, 0.32305266,\n",
       "        0.41209922, 0.38931987, 0.45351623, 0.41624092, 0.34376116,\n",
       "        0.39553242, 0.37689477, 0.38103647, 0.38310732, 0.35411541,\n",
       "        0.40174497, 0.42659518, 0.39553242, 0.38310732, 0.36861137,\n",
       "        0.37689477, 0.37482392, 0.37689477, 0.36861137, 0.30648585,\n",
       "        0.35204456, 0.35825711, 0.33133606, 0.3002733 , 0.2754231 ,\n",
       "        0.35204456, 0.27335225, 0.28577735, 0.2878482 , 0.2795648 ,\n",
       "        0.26092715, 0.22158099, 0.26506885, 0.22158099, 0.19465993,\n",
       "        0.17602228, 0.14081783, 0.16980973, 0.14703038, 0.16566803,\n",
       "        0.13253442, 0.15738463, 0.11182592, 0.11182592, 0.10768422,\n",
       "        0.08283401, 0.09318827, 0.11389677, 0.07869231, 0.06626721,\n",
       "        0.07455061, 0.03934616, 0.04348786, 0.05384211, 0.05798381,\n",
       "        0.04348786, 0.03313361, 0.02899191, 0.01863765, 0.02277935,\n",
       "        0.03934616, 0.0207085 , 0.01035425, 0.0207085 , 0.01449595,\n",
       "        0.0082834 , 0.0041417 , 0.0082834 , 0.01035425, 0.00621255,\n",
       "        0.0041417 , 0.00621255, 0.00207085, 0.00621255, 0.00207085,\n",
       "        0.        , 0.00207085, 0.        , 0.0041417 , 0.00207085,\n",
       "        0.        , 0.0041417 , 0.        , 0.        , 0.00207085]),\n",
       " array([-4.64301838, -4.59472904, -4.5464397 , -4.49815036, -4.44986101,\n",
       "        -4.40157167, -4.35328233, -4.30499299, -4.25670365, -4.20841431,\n",
       "        -4.16012497, -4.11183563, -4.06354628, -4.01525694, -3.9669676 ,\n",
       "        -3.91867826, -3.87038892, -3.82209958, -3.77381024, -3.7255209 ,\n",
       "        -3.67723156, -3.62894221, -3.58065287, -3.53236353, -3.48407419,\n",
       "        -3.43578485, -3.38749551, -3.33920617, -3.29091683, -3.24262748,\n",
       "        -3.19433814, -3.1460488 , -3.09775946, -3.04947012, -3.00118078,\n",
       "        -2.95289144, -2.9046021 , -2.85631275, -2.80802341, -2.75973407,\n",
       "        -2.71144473, -2.66315539, -2.61486605, -2.56657671, -2.51828737,\n",
       "        -2.46999803, -2.42170868, -2.37341934, -2.32513   , -2.27684066,\n",
       "        -2.22855132, -2.18026198, -2.13197264, -2.0836833 , -2.03539395,\n",
       "        -1.98710461, -1.93881527, -1.89052593, -1.84223659, -1.79394725,\n",
       "        -1.74565791, -1.69736857, -1.64907922, -1.60078988, -1.55250054,\n",
       "        -1.5042112 , -1.45592186, -1.40763252, -1.35934318, -1.31105384,\n",
       "        -1.2627645 , -1.21447515, -1.16618581, -1.11789647, -1.06960713,\n",
       "        -1.02131779, -0.97302845, -0.92473911, -0.87644977, -0.82816042,\n",
       "        -0.77987108, -0.73158174, -0.6832924 , -0.63500306, -0.58671372,\n",
       "        -0.53842438, -0.49013504, -0.4418457 , -0.39355635, -0.34526701,\n",
       "        -0.29697767, -0.24868833, -0.20039899, -0.15210965, -0.10382031,\n",
       "        -0.05553097, -0.00724162,  0.04104772,  0.08933706,  0.1376264 ,\n",
       "         0.18591574,  0.23420508,  0.28249442,  0.33078376,  0.37907311,\n",
       "         0.42736245,  0.47565179,  0.52394113,  0.57223047,  0.62051981,\n",
       "         0.66880915,  0.71709849,  0.76538783,  0.81367718,  0.86196652,\n",
       "         0.91025586,  0.9585452 ,  1.00683454,  1.05512388,  1.10341322,\n",
       "         1.15170256,  1.19999191,  1.24828125,  1.29657059,  1.34485993,\n",
       "         1.39314927,  1.44143861,  1.48972795,  1.53801729,  1.58630663,\n",
       "         1.63459598,  1.68288532,  1.73117466,  1.779464  ,  1.82775334,\n",
       "         1.87604268,  1.92433202,  1.97262136,  2.02091071,  2.06920005,\n",
       "         2.11748939,  2.16577873,  2.21406807,  2.26235741,  2.31064675,\n",
       "         2.35893609,  2.40722544,  2.45551478,  2.50380412,  2.55209346,\n",
       "         2.6003828 ]),\n",
       " <BarContainer object of 150 artists>)"
      ]
     },
     "execution_count": 61,
     "metadata": {},
     "output_type": "execute_result"
    },
    {
     "data": {
      "image/png": "[encoded data removed]",
      "text/plain": [
       "<Figure size 640x480 with 1 Axes>"
      ]
     },
     "metadata": {},
     "output_type": "display_data"
    }
   ],
   "source": [
    "# we won't draw the edge of each bar\n",
    "plt.hist(data, bins=150, density=True)"
   ]
  },
  {
   "cell_type": "markdown",
   "metadata": {},
   "source": [
    "We set `density = True` in order to plot the **frequency density** of a bin (i.e. the relative frequency of a bin divided by its width), rather than its relative (or absolute) frequency (as it is in the graph bar). \n",
    "\n",
    "When the bins are equally spaced, the relative (or absolute) frequency and the frequency density are proportional. However, this proportionality is lost when the histograms plots the density of **unequally spaced** bins (i.e. when the value of the argument `bins` is a sequence)."
   ]
  },
  {
   "cell_type": "code",
   "execution_count": 62,
   "metadata": {},
   "outputs": [
    {
     "data": {
      "image/png": "[encoded data removed]",
      "text/plain": [
       "<Figure size 640x480 with 1 Axes>"
      ]
     },
     "metadata": {},
     "output_type": "display_data"
    }
   ],
   "source": [
    "n, bins, patches = plt.hist(data, bins=999, density=False)"
   ]
  },
  {
   "cell_type": "code",
   "execution_count": 63,
   "metadata": {},
   "outputs": [
    {
     "data": {
      "image/png": "[encoded data removed]",
      "text/plain": [
       "<Figure size 640x480 with 1 Axes>"
      ]
     },
     "metadata": {},
     "output_type": "display_data"
    }
   ],
   "source": [
    "# equal bins ('density' doesn't matter for overall 'shape')\n",
    "n, bins, patches = plt.hist(data, bins=9, density=False, edgecolor=\"black\")\n",
    "patches[4].set_fc(\"r\")\n",
    "patches[5].set_fc(\"r\")\n",
    "patches[6].set_fc(\"r\")\n",
    "patches[7].set_fc(\"r\")\n",
    "patches[8].set_fc(\"r\")"
   ]
  },
  {
   "cell_type": "code",
   "execution_count": 64,
   "metadata": {},
   "outputs": [
    {
     "data": {
      "image/png": "[encoded data removed]",
      "text/plain": [
       "<Figure size 640x480 with 1 Axes>"
      ]
     },
     "metadata": {},
     "output_type": "display_data"
    }
   ],
   "source": [
    "# unequal bins. density = False (relative frequency)\n",
    "n, bins, patches = plt.hist(\n",
    "    data,\n",
    "    bins=np.array([min(data), -3, -2, -1, max(data)]),\n",
    "    density=False,\n",
    "    edgecolor=\"black\",\n",
    ")\n",
    "patches[3].set_fc(\"r\")"
   ]
  },
  {
   "cell_type": "code",
   "execution_count": 65,
   "metadata": {},
   "outputs": [
    {
     "data": {
      "image/png": "[encoded data removed]",
      "text/plain": [
       "<Figure size 640x480 with 1 Axes>"
      ]
     },
     "metadata": {},
     "output_type": "display_data"
    }
   ],
   "source": [
    "# unequal bins. density = True (frequency density)\n",
    "n, bins, patches = plt.hist(\n",
    "    data,\n",
    "    bins=np.array([min(data), -3, -2, -1, max(data)]),\n",
    "    density=True,\n",
    "    edgecolor=\"black\",\n",
    ")\n",
    "patches[3].set_fc(\"r\")"
   ]
  },
  {
   "cell_type": "markdown",
   "metadata": {},
   "source": [
    "##### Drawing several plots per canvas\n",
    "\n",
    "Multiple plots per canvas can be drawn by using the function `subplot()` to setup a grid and activate one plot per time"
   ]
  },
  {
   "cell_type": "code",
   "execution_count": 66,
   "metadata": {},
   "outputs": [],
   "source": [
    "%matplotlib inline\n",
    "\n",
    "x = np.arange(1, 150)\n",
    "y_base10_log = np.log10(x)\n",
    "y_natural_log = np.log(x)\n",
    "y_base2_log = np.log2(x)"
   ]
  },
  {
   "cell_type": "code",
   "execution_count": 67,
   "metadata": {},
   "outputs": [
    {
     "data": {
      "text/plain": [
       "<Axes: >"
      ]
     },
     "execution_count": 67,
     "metadata": {},
     "output_type": "execute_result"
    },
    {
     "data": {
      "text/plain": [
       "[<matplotlib.lines.Line2D at 0x7fafc8db0370>]"
      ]
     },
     "execution_count": 67,
     "metadata": {},
     "output_type": "execute_result"
    },
    {
     "data": {
      "text/plain": [
       "Text(0.5, 1.0, 'Base 10 Log')"
      ]
     },
     "execution_count": 67,
     "metadata": {},
     "output_type": "execute_result"
    },
    {
     "data": {
      "image/png": "[encoded data removed]",
      "text/plain": [
       "<Figure size 640x480 with 1 Axes>"
      ]
     },
     "metadata": {},
     "output_type": "display_data"
    }
   ],
   "source": [
    "# Set up a 2 x 2 grid, set the first plot as active and draw the first curve\n",
    "plt.subplot(2, 2, 1)\n",
    "plt.plot(x, y_base10_log)\n",
    "plt.title(\"Base 10 Log\")\n",
    "\n",
    "# uncomment to compare subplots with the same y-axis limits\n",
    "# plt.ylim(0,8)"
   ]
  },
  {
   "cell_type": "code",
   "execution_count": 68,
   "metadata": {},
   "outputs": [
    {
     "data": {
      "text/plain": [
       "<Axes: >"
      ]
     },
     "execution_count": 68,
     "metadata": {},
     "output_type": "execute_result"
    },
    {
     "data": {
      "text/plain": [
       "[<matplotlib.lines.Line2D at 0x7fafc903b190>]"
      ]
     },
     "execution_count": 68,
     "metadata": {},
     "output_type": "execute_result"
    },
    {
     "data": {
      "text/plain": [
       "Text(0.5, 1.0, 'Natural Log')"
      ]
     },
     "execution_count": 68,
     "metadata": {},
     "output_type": "execute_result"
    },
    {
     "data": {
      "image/png": "[encoded data removed]",
      "text/plain": [
       "<Figure size 640x480 with 1 Axes>"
      ]
     },
     "metadata": {},
     "output_type": "display_data"
    }
   ],
   "source": [
    "# activate the second subplot and draw the second curve\n",
    "plt.subplot(2, 2, 2)\n",
    "plt.plot(x, y_natural_log)\n",
    "plt.title(\"Natural Log\")\n",
    "\n",
    "# uncomment to compare subplots with the same y-axis limits\n",
    "# plt.ylim(0,8)"
   ]
  },
  {
   "cell_type": "code",
   "execution_count": 69,
   "metadata": {},
   "outputs": [
    {
     "data": {
      "text/plain": [
       "<Axes: >"
      ]
     },
     "execution_count": 69,
     "metadata": {},
     "output_type": "execute_result"
    },
    {
     "data": {
      "text/plain": [
       "[<matplotlib.lines.Line2D at 0x7fafc8f9dd30>]"
      ]
     },
     "execution_count": 69,
     "metadata": {},
     "output_type": "execute_result"
    },
    {
     "data": {
      "text/plain": [
       "Text(0.5, 1.0, 'Base 2 Log')"
      ]
     },
     "execution_count": 69,
     "metadata": {},
     "output_type": "execute_result"
    },
    {
     "data": {
      "image/png": "[encoded data removed]",
      "text/plain": [
       "<Figure size 640x480 with 1 Axes>"
      ]
     },
     "metadata": {},
     "output_type": "display_data"
    }
   ],
   "source": [
    "# activate the third subplot and draw the third curve\n",
    "plt.subplot(2, 2, 3)\n",
    "plt.plot(x, y_base2_log)\n",
    "plt.title(\"Base 2 Log\")\n",
    "\n",
    "# uncomment to compare subplots with the same y-axis limits\n",
    "# plt.ylim(0,8)"
   ]
  },
  {
   "cell_type": "code",
   "execution_count": 70,
   "metadata": {},
   "outputs": [
    {
     "data": {
      "text/plain": [
       "<Figure size 640x480 with 0 Axes>"
      ]
     },
     "metadata": {},
     "output_type": "display_data"
    }
   ],
   "source": [
    "plt.tight_layout()  # adjust spacing between subplots to minimize the overlaps.\n",
    "plt.show()"
   ]
  },
  {
   "cell_type": "markdown",
   "metadata": {},
   "source": [
    "> **Further Reading:**\n",
    ">\n",
    "> Tutorial introductions to the Python scientific computing libraries (including other libraries that we'll briefly use in this class, such as \"SciPy\", \"Pandas\" and \"scikit-learn\") can be found in:\n",
    ">\n",
    "> - the [SciPy Lecture Notes](http://www.scipy-lectures.org/) ( the [pdf version](http://www.scipy-lectures.org/_downloads/ScipyLectures-simple.pdf)).\n",
    ">\n",
    ">\n",
    "> - The `python-course.eu` section dedicated to [Numerical Python](https://www.python-course.eu/numerical_programming.php).\n",
    ">\n",
    ">\n",
    "> - For a gentle introduction to the main matplotlib modules, have a look at the [beginner's guide](https://matplotlib.org/users/beginner.html) available on `matplotlib.org`.\n",
    ">\n",
    ">\n",
    "> - An excellent plotting package built on top of matplotlib is called [`Seaborn`](https://seaborn.pydata.org)."
   ]
  },
  {
   "cell_type": "markdown",
   "metadata": {},
   "source": [
    "### Exercise 1.\n",
    "\n",
    "Plot the sine and the cosine waves in the same graph"
   ]
  },
  {
   "cell_type": "code",
   "execution_count": 75,
   "metadata": {},
   "outputs": [],
   "source": [
    "# your code here"
   ]
  },
  {
   "cell_type": "markdown",
   "metadata": {},
   "source": [
    "### Exercise 2.\n",
    "\n",
    "Read the file data/adams-hhgttg.txt and:\n",
    "\n",
    "\n",
    "- count the occurrences of each word.\n",
    "\n",
    "\n",
    "- Create a graph plotting word frequencies (on the **y-axis**) by words sorted by frequency (that is, you list the corpus words from the most frequency to the least frequent words **x-axis**). For clarity, please do not report the words in the x-axis label.\n",
    "\n",
    "\n",
    "- In a similar graph, plot the frequencies of the top-frequent 25 words."
   ]
  },
  {
   "cell_type": "code",
   "execution_count": 80,
   "metadata": {},
   "outputs": [],
   "source": [
    "# your code here"
   ]
  },
  {
   "cell_type": "markdown",
   "metadata": {
    "slideshow": {
     "slide_type": "skip"
    }
   },
   "source": [
    "---"
   ]
  }
 ],
 "metadata": {
  "kernelspec": {
   "display_name": ".venv",
   "language": "python",
   "name": "python3"
  },
  "language_info": {
   "codemirror_mode": {
    "name": "ipython",
    "version": 3
   },
   "file_extension": ".py",
   "mimetype": "text/x-python",
   "name": "python",
   "nbconvert_exporter": "python",
   "pygments_lexer": "ipython3",
   "version": "3.8.20"
  },
  "toc": {
   "base_numbering": 1,
   "nav_menu": {},
   "number_sections": true,
   "sideBar": true,
   "skip_h1_title": false,
   "title_cell": "Table of Contents",
   "title_sidebar": "Contents",
   "toc_cell": false,
   "toc_position": {},
   "toc_section_display": true,
   "toc_window_display": true
  }
 },
 "nbformat": 4,
 "nbformat_minor": 2
}
