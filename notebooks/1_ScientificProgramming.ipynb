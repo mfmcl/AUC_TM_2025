{
 "cells": [
  {
   "cell_type": "markdown",
   "metadata": {
    "collapsed": true
   },
   "source": [
    "# Scientific Programming"
   ]
  },
  {
   "cell_type": "code",
   "execution_count": null,
   "metadata": {},
   "outputs": [],
   "source": [
    "## Notebook settings\n",
    "\n",
    "# multiple lines of output per cell\n",
    "from IPython.core.interactiveshell import InteractiveShell\n",
    "\n",
    "InteractiveShell.ast_node_interactivity = \"all\""
   ]
  },
  {
   "cell_type": "markdown",
   "metadata": {},
   "source": [
    ">### Today\n",
    ">\n",
    "> - Scientific programming\n",
    ">    - [NumPy](#NumPy)\n",
    ">    - [Matplotlib](#Matplotlib)\n",
    "> \n",
    ">\n",
    "> - Regular expressions (another notebook)"
   ]
  },
  {
   "cell_type": "markdown",
   "metadata": {},
   "source": [
    "## A Sample of Python Libraries for Scientific Programming\n",
    "\n",
    "In addition to the Standard Library, `python.org` offers an ever-growing collection of freely available components that are constantly upgraded, tested and updated. There are many modules, packages and programs available from [PyPI](https://pypi.python.org/pypi) - the Python Package Index. "
   ]
  },
  {
   "cell_type": "markdown",
   "metadata": {},
   "source": [
    "These libraries are developed either to extend the functionalities of Python, or as more specialized/efficient version of existing modules (or both). In the remaining of this tutorial we will briefly introduce two fundamental packages for scientific computing with Python: **NumPy** and **matplotlib**."
   ]
  },
  {
   "cell_type": "markdown",
   "metadata": {},
   "source": [
    "## NumPy\n",
    "\n",
    "The **Num**eric(al) **Py**thon package is the core library for scientific computing in Python. It enriches Python with high performance data structures, as well as with function to manipulate such data structures and for a whole range of numerical routines. \n",
    "\n",
    "**SciPy**, another core scientific package provides a wide inventory on functions that, by operating on NumPy arrays, can be used for a range of scientific applications."
   ]
  },
  {
   "cell_type": "code",
   "execution_count": null,
   "metadata": {},
   "outputs": [],
   "source": [
    "# when imported, numpy is usually renamed as \"np\".\n",
    "import numpy as np"
   ]
  },
  {
   "cell_type": "markdown",
   "metadata": {},
   "source": [
    "#### Arrays\n",
    "\n",
    "**ndarrays** (i.e. *N*-dimensional arrays) are the main data structure on which NumPy is based. \n",
    "\n",
    "ndarrays are **multidimensional** **homogeneous** arrays composed by a **predetermined number** of items:\n",
    "\n",
    "\n",
    "- the dimensionality of an ndarray is defined by its **shape** (i.e., a tuple of integers specifying the size of each dimension, a.k.a. *axes*). The number of axes of an array is called its **rank**. \n",
    "\n",
    "\n",
    "- Sometimes \"dimension\" is used interchangeably for the shape and the rank of an array.\n",
    "\n",
    "\n",
    "- Ndarrays are composed by items of the same type. In NumPy arrays, types are defined by the object **dtype** (data-type), and each array is associated to one and only one dtype.\n",
    "\n",
    "\n",
    "- When a ndarray is created, its size is defined and cannot be changed."
   ]
  },
  {
   "cell_type": "markdown",
   "metadata": {},
   "source": [
    "NumPy arrays can be created in many different ways, among which by passing a regular Python list or tuple to the `array()` function:"
   ]
  },
  {
   "cell_type": "code",
   "execution_count": 12,
   "metadata": {},
   "outputs": [
    {
     "name": "stdout",
     "output_type": "stream",
     "text": [
      "[1 2 3 4 5 6]\n"
     ]
    }
   ],
   "source": [
    "# let's create a rank-1 array (i.e. a vector)\n",
    "a = np.array([1, 2, 3, 4, 5, 6])\n",
    "print(a)"
   ]
  },
  {
   "cell_type": "code",
   "execution_count": 4,
   "metadata": {
    "scrolled": true
   },
   "outputs": [
    {
     "data": {
      "text/plain": [
       "numpy.ndarray"
      ]
     },
     "execution_count": 4,
     "metadata": {},
     "output_type": "execute_result"
    }
   ],
   "source": [
    "# let's verify that this is a numpy array\n",
    "type(a)"
   ]
  },
  {
   "cell_type": "code",
   "execution_count": 5,
   "metadata": {},
   "outputs": [
    {
     "data": {
      "text/plain": [
       "1"
      ]
     },
     "execution_count": 5,
     "metadata": {},
     "output_type": "execute_result"
    }
   ],
   "source": [
    "# this is a rank-1 array\n",
    "a.ndim"
   ]
  },
  {
   "cell_type": "code",
   "execution_count": 6,
   "metadata": {},
   "outputs": [
    {
     "data": {
      "text/plain": [
       "(6,)"
      ]
     },
     "execution_count": 6,
     "metadata": {},
     "output_type": "execute_result"
    }
   ],
   "source": [
    "# its only axis has shape [6]\n",
    "a.shape"
   ]
  },
  {
   "cell_type": "code",
   "execution_count": null,
   "metadata": {},
   "outputs": [
    {
     "data": {
      "text/plain": [
       "dtype('int64')"
      ]
     },
     "execution_count": 7,
     "metadata": {},
     "output_type": "execute_result"
    }
   ],
   "source": [
    "# if not explicitly specified, array() automatically infers the dtype on the basis of the type of the\n",
    "# elements in the list\n",
    "a.dtype"
   ]
  },
  {
   "cell_type": "code",
   "execution_count": 8,
   "metadata": {},
   "outputs": [
    {
     "name": "stdout",
     "output_type": "stream",
     "text": [
      "1 3 6\n"
     ]
    }
   ],
   "source": [
    "# indexing can be used to access values...\n",
    "print(a[0], a[2], a[5])"
   ]
  },
  {
   "cell_type": "code",
   "execution_count": 15,
   "metadata": {
    "scrolled": true
   },
   "outputs": [
    {
     "data": {
      "text/plain": [
       "array([1, 9, 3, 4, 5, 6])"
      ]
     },
     "execution_count": 15,
     "metadata": {},
     "output_type": "execute_result"
    }
   ],
   "source": [
    "# ... or to change them\n",
    "a[1] = 9\n",
    "a"
   ]
  },
  {
   "cell_type": "code",
   "execution_count": 16,
   "metadata": {},
   "outputs": [
    {
     "data": {
      "text/plain": [
       "array([[1, 9],\n",
       "       [3, 4],\n",
       "       [5, 6]])"
      ]
     },
     "execution_count": 16,
     "metadata": {},
     "output_type": "execute_result"
    }
   ],
   "source": [
    "# the rank of an array can be changed, e.g. into  2-rank array with 3 rows and 2 columns\n",
    "# NB: row*col must be equal to no. of elements (6 here)\n",
    "a.reshape(3, 2)"
   ]
  },
  {
   "cell_type": "code",
   "execution_count": 17,
   "metadata": {},
   "outputs": [
    {
     "name": "stdout",
     "output_type": "stream",
     "text": [
      "[[1 2 3]\n",
      " [4 5 6]\n",
      " [7 8 9]]\n",
      "2\n",
      "(3, 3)\n"
     ]
    }
   ],
   "source": [
    "# the same syntax can be used to create rank 2 arrays\n",
    "b = np.array([[1, 2, 3], [4, 5, 6], [7, 8, 9]])\n",
    "print(b)\n",
    "print(b.ndim)\n",
    "print(b.shape)"
   ]
  },
  {
   "cell_type": "code",
   "execution_count": 18,
   "metadata": {},
   "outputs": [
    {
     "name": "stdout",
     "output_type": "stream",
     "text": [
      "1\n",
      "8\n"
     ]
    }
   ],
   "source": [
    "# but indexing is a bit more articulated\n",
    "print(b[0, 0])\n",
    "print(b[2, 1])"
   ]
  },
  {
   "cell_type": "markdown",
   "metadata": {},
   "source": [
    "The `dtype` option can be used to specify to the `array()` function which type of elements are in the array (see the [NumPy documentation](https://docs.scipy.org/doc/numpy-1.10.1/user/basics.types.html) for the full list of supported data-types):"
   ]
  },
  {
   "cell_type": "code",
   "execution_count": null,
   "metadata": {},
   "outputs": [
    {
     "name": "stdout",
     "output_type": "stream",
     "text": [
      "[[1. 2. 3.]\n",
      " [4. 5. 6.]\n",
      " [7. 8. 9.]]\n"
     ]
    }
   ],
   "source": [
    "c = np.array([[1, 2, 3], [4, 5, 6], [7, 8, 9]], dtype=\"float32\")\n",
    "print(c)"
   ]
  },
  {
   "cell_type": "markdown",
   "metadata": {},
   "source": [
    "Arrays with some initial content can be created by using different functions, depending on the **initial value**..."
   ]
  },
  {
   "cell_type": "code",
   "execution_count": null,
   "metadata": {},
   "outputs": [
    {
     "name": "stdout",
     "output_type": "stream",
     "text": [
      "[[0. 0. 0. 0.]\n",
      " [0. 0. 0. 0.]\n",
      " [0. 0. 0. 0.]]\n"
     ]
    }
   ],
   "source": [
    "# 2-rank array of zeros\n",
    "a = np.zeros((3, 4))\n",
    "print(a)"
   ]
  },
  {
   "cell_type": "code",
   "execution_count": null,
   "metadata": {},
   "outputs": [
    {
     "name": "stdout",
     "output_type": "stream",
     "text": [
      "[[1. 1. 1. 1.]\n",
      " [1. 1. 1. 1.]\n",
      " [1. 1. 1. 1.]]\n"
     ]
    }
   ],
   "source": [
    "# 2-rank array of ones\n",
    "b = np.ones((3, 4))\n",
    "print(b)"
   ]
  },
  {
   "cell_type": "code",
   "execution_count": 22,
   "metadata": {},
   "outputs": [
    {
     "name": "stdout",
     "output_type": "stream",
     "text": [
      "[[14.05 14.05 14.05 14.05]\n",
      " [14.05 14.05 14.05 14.05]\n",
      " [14.05 14.05 14.05 14.05]]\n"
     ]
    }
   ],
   "source": [
    "# 2-rank array with an user-selected initial value\n",
    "c = np.full((3, 4), 14.05)\n",
    "print(c)"
   ]
  },
  {
   "cell_type": "markdown",
   "metadata": {},
   "source": [
    "... or on the **function** used to generate the initial values:"
   ]
  },
  {
   "cell_type": "code",
   "execution_count": 23,
   "metadata": {},
   "outputs": [
    {
     "name": "stdout",
     "output_type": "stream",
     "text": [
      "[[[0.99932323 0.35321977 0.14351204 0.47394758]\n",
      "  [0.67671459 0.70301008 0.05970118 0.59831678]\n",
      "  [0.82008514 0.34629133 0.80856626 0.43126073]]\n",
      "\n",
      " [[0.77693434 0.59926516 0.89775868 0.53728888]\n",
      "  [0.54445311 0.8561396  0.44761653 0.28185757]\n",
      "  [0.88168612 0.0466673  0.10146167 0.16823618]]]\n"
     ]
    }
   ],
   "source": [
    "# 3-rank array with random values\n",
    "d = np.random.random((2, 3, 4))\n",
    "print(d)"
   ]
  },
  {
   "cell_type": "markdown",
   "metadata": {},
   "source": [
    "NumPy display arrays according to the following rules:\n",
    "\n",
    "- the last axis is printed left to right\n",
    "\n",
    "- the second-to-last is printed top to bottom\n",
    "\n",
    "- the rest are printed top to bottom as well, but the slices are separated by empty lines"
   ]
  },
  {
   "cell_type": "markdown",
   "metadata": {},
   "source": [
    "#### Array Indexing\n",
    "\n",
    "1-rank array indexing, slicing and iteration works much as for the normal Python lists:"
   ]
  },
  {
   "cell_type": "code",
   "execution_count": null,
   "metadata": {},
   "outputs": [
    {
     "name": "stdout",
     "output_type": "stream",
     "text": [
      "3\n",
      "[3 4 5]\n",
      "1\n",
      "2\n",
      "3\n",
      "4\n",
      "5\n",
      "6\n"
     ]
    }
   ],
   "source": [
    "a = np.array([1, 2, 3, 4, 5, 6])\n",
    "print(a[2])\n",
    "print(a[2:5])\n",
    "for v in a:\n",
    "    print(v)"
   ]
  },
  {
   "cell_type": "markdown",
   "metadata": {},
   "source": [
    "When dealing with multidimensional arrays (i.e. rank > 1), it is necessary to specify an index or a slice **for each dimension**:"
   ]
  },
  {
   "cell_type": "code",
   "execution_count": 29,
   "metadata": {},
   "outputs": [
    {
     "name": "stdout",
     "output_type": "stream",
     "text": [
      "(3, 3)\n",
      "[[1 2 3]\n",
      " [4 5 6]\n",
      " [7 8 9]]\n",
      "--------\n",
      "5\n",
      "--------\n",
      "[[1 2 3]\n",
      " [4 5 6]]\n",
      "--------\n",
      "[[2 3]\n",
      " [5 6]\n",
      " [8 9]]\n",
      "--------\n",
      "[[2 3]\n",
      " [5 6]]\n"
     ]
    }
   ],
   "source": [
    "a = np.array([[1, 2, 3], [4, 5, 6], [7, 8, 9]])\n",
    "print(a.shape)\n",
    "\n",
    "print(a)\n",
    "print(\"--------\")\n",
    "print(a[1, 1])\n",
    "print(\"--------\")\n",
    "print(a[0:2])\n",
    "print(\"--------\")\n",
    "print(a[:, 1:3])\n",
    "print(\"--------\")\n",
    "print(a[0:2, 1:3])"
   ]
  },
  {
   "cell_type": "code",
   "execution_count": 30,
   "metadata": {},
   "outputs": [
    {
     "name": "stdout",
     "output_type": "stream",
     "text": [
      "[[1 2 3]\n",
      " [4 5 6]]\n"
     ]
    }
   ],
   "source": [
    "# unspecified indices works the same as with normal lists\n",
    "print(a[:2, :3])"
   ]
  },
  {
   "cell_type": "code",
   "execution_count": 31,
   "metadata": {},
   "outputs": [
    {
     "name": "stdout",
     "output_type": "stream",
     "text": [
      "[4 5 6]\n"
     ]
    }
   ],
   "source": [
    "# missing indices are considered complete slices\n",
    "print(a[1])"
   ]
  },
  {
   "cell_type": "code",
   "execution_count": 32,
   "metadata": {},
   "outputs": [
    {
     "name": "stdout",
     "output_type": "stream",
     "text": [
      "[7 8 9]\n"
     ]
    }
   ],
   "source": [
    "# negative indices can be used as well\n",
    "print(a[-1])"
   ]
  },
  {
   "cell_type": "markdown",
   "metadata": {},
   "source": [
    "The iteration over multidimensional arrays starts always with respect to the first axis:"
   ]
  },
  {
   "cell_type": "code",
   "execution_count": 33,
   "metadata": {},
   "outputs": [
    {
     "name": "stdout",
     "output_type": "stream",
     "text": [
      "[1 2 3]\n",
      "[4 5 6]\n",
      "[7 8 9]\n"
     ]
    }
   ],
   "source": [
    "for v in a:\n",
    "    print(v)"
   ]
  },
  {
   "cell_type": "markdown",
   "metadata": {},
   "source": [
    "**boolean indexing** allows you to pick out all the array elements that satisfy a given condition"
   ]
  },
  {
   "cell_type": "code",
   "execution_count": 34,
   "metadata": {},
   "outputs": [
    {
     "name": "stdout",
     "output_type": "stream",
     "text": [
      "[[False  True False]\n",
      " [ True False  True]\n",
      " [False  True False]]\n"
     ]
    }
   ],
   "source": [
    "# let's create a boolean array of the same shape as \"a\", where each slot tells us if\n",
    "# that element of \"a\" is an even number\n",
    "even_idx = a % 2 == 0\n",
    "print(even_idx)"
   ]
  },
  {
   "cell_type": "code",
   "execution_count": 35,
   "metadata": {},
   "outputs": [
    {
     "name": "stdout",
     "output_type": "stream",
     "text": [
      "[2 4 6 8]\n"
     ]
    }
   ],
   "source": [
    "# let's extract the even numbers in our array\n",
    "print(a[even_idx])"
   ]
  },
  {
   "cell_type": "markdown",
   "metadata": {},
   "source": [
    "#### Basic Math \n",
    "\n",
    "Basic mathematical functions apply element-wise:"
   ]
  },
  {
   "cell_type": "code",
   "execution_count": 36,
   "metadata": {},
   "outputs": [
    {
     "name": "stdout",
     "output_type": "stream",
     "text": [
      "[[15.05 15.05 15.05 15.05]\n",
      " [15.05 15.05 15.05 15.05]\n",
      " [15.05 15.05 15.05 15.05]]\n"
     ]
    }
   ],
   "source": [
    "# e.g. for the sum\n",
    "print(b + c)"
   ]
  },
  {
   "cell_type": "code",
   "execution_count": 37,
   "metadata": {},
   "outputs": [
    {
     "name": "stdout",
     "output_type": "stream",
     "text": [
      "[[14.05 14.05 14.05 14.05]\n",
      " [14.05 14.05 14.05 14.05]\n",
      " [14.05 14.05 14.05 14.05]]\n"
     ]
    }
   ],
   "source": [
    "# element-wise multiplication\n",
    "print(b * c)"
   ]
  },
  {
   "cell_type": "markdown",
   "metadata": {},
   "source": [
    "The function `dot()` can be used to calculate the inner product:"
   ]
  },
  {
   "cell_type": "code",
   "execution_count": 38,
   "metadata": {},
   "outputs": [
    {
     "name": "stdout",
     "output_type": "stream",
     "text": [
      "219\n"
     ]
    }
   ],
   "source": [
    "# inner product of rank 1 matrices, or vectors (returns a number, i.e. a scalar)\n",
    "print(np.dot(np.array([9, 10]), np.array([11, 12])))"
   ]
  },
  {
   "cell_type": "code",
   "execution_count": 39,
   "metadata": {},
   "outputs": [
    {
     "name": "stdout",
     "output_type": "stream",
     "text": [
      "[ 1 -3]\n"
     ]
    }
   ],
   "source": [
    "# matrix-vector multiplication\n",
    "print(np.dot(np.array([[1, -1, 2], [0, -3, 1]]), np.array([2, 1, 0])))"
   ]
  },
  {
   "cell_type": "code",
   "execution_count": 40,
   "metadata": {},
   "outputs": [
    {
     "name": "stdout",
     "output_type": "stream",
     "text": [
      "[[  0 -10]\n",
      " [ -3  -1]]\n"
     ]
    }
   ],
   "source": [
    "# matrix-matrix multiplication\n",
    "print(np.dot(np.array([[0, 4, -2], [-4, -3, 0]]), np.array([[0, 1], [1, -1], [2, 3]])))"
   ]
  },
  {
   "cell_type": "markdown",
   "metadata": {},
   "source": [
    "Finally, Numpy functions allow to perform computation on arrays or to transform them"
   ]
  },
  {
   "cell_type": "code",
   "execution_count": 42,
   "metadata": {},
   "outputs": [
    {
     "name": "stdout",
     "output_type": "stream",
     "text": [
      "[[1. 1. 1. 1.]\n",
      " [1. 1. 1. 1.]\n",
      " [1. 1. 1. 1.]]\n",
      "--------\n",
      "12.0\n",
      "--------\n",
      "[3. 3. 3. 3.]\n",
      "--------\n",
      "[4. 4. 4.]\n"
     ]
    }
   ],
   "source": [
    "# compute the sum of all the elements along an axis\n",
    "print(b)\n",
    "print(\"--------\")\n",
    "print(np.sum(b))  # sum all element\n",
    "print(\"--------\")\n",
    "print(np.sum(b, axis=0))  # think: sum over and \"collapse\" axis 0 (= columns)\n",
    "print(\"--------\")\n",
    "print(np.sum(b, axis=1))  # think: sum over and \"collapse\" axis 1 (= rows)"
   ]
  },
  {
   "cell_type": "code",
   "execution_count": 43,
   "metadata": {},
   "outputs": [
    {
     "name": "stdout",
     "output_type": "stream",
     "text": [
      "(2, 3)\n",
      "[[0 1 2]\n",
      " [3 4 5]]\n",
      "--------\n",
      "(3, 2)\n",
      "[[0 3]\n",
      " [1 4]\n",
      " [2 5]]\n"
     ]
    }
   ],
   "source": [
    "# transpose of a matrix\n",
    "f = np.arange(6).reshape(2, 3)\n",
    "print(f.shape)\n",
    "print(f)\n",
    "print(\"--------\")\n",
    "f_transp = f.T\n",
    "print(f_transp.shape)\n",
    "print(f_transp)"
   ]
  },
  {
   "cell_type": "code",
   "execution_count": 45,
   "metadata": {},
   "outputs": [
    {
     "name": "stdout",
     "output_type": "stream",
     "text": [
      ">> 'regular' (rank 1) vector <<\n",
      "rank: 1\n",
      "shape: (5,)\n",
      "[0 1 2 3 4]\n",
      "--------\n",
      ">> column vector <<\n",
      "rank: 2\n",
      "shape: (5, 1)\n",
      "[[0]\n",
      " [1]\n",
      " [2]\n",
      " [3]\n",
      " [4]]\n",
      "--------\n",
      ">> row vector <<\n",
      "rank: 2\n",
      "shape: (1, 5)\n",
      "[[0 1 2 3 4]]\n"
     ]
    }
   ],
   "source": [
    "# 3 different types of vectors\n",
    "a_1 = np.arange(5)\n",
    "print(\">> 'regular' (rank 1) vector <<\")\n",
    "print(\"rank: \" + str(a_1.ndim))\n",
    "print(\"shape: \" + str(a_1.shape))\n",
    "print(a_1)\n",
    "print(\"--------\")\n",
    "\n",
    "a_2 = a_1.reshape(5, 1)\n",
    "print(\">> column vector <<\")\n",
    "print(\"rank: \" + str(a_2.ndim))\n",
    "print(\"shape: \" + str(a_2.shape))\n",
    "\n",
    "print(a_2)\n",
    "print(\"--------\")\n",
    "\n",
    "a_3 = a_2.reshape(1, 5)\n",
    "print(\">> row vector <<\")\n",
    "print(\"rank: \" + str(a_3.ndim))\n",
    "print(\"shape: \" + str(a_3.shape))\n",
    "print(a_3)"
   ]
  },
  {
   "cell_type": "markdown",
   "metadata": {},
   "source": [
    "`np.linalg` provides access to linear algebra functions, e.g., solvers, eigenvalues/vectors, norms and decompositions."
   ]
  },
  {
   "cell_type": "code",
   "execution_count": 46,
   "metadata": {},
   "outputs": [
    {
     "name": "stdout",
     "output_type": "stream",
     "text": [
      "[[1. 2.]\n",
      " [3. 4.]]\n",
      "[[-2.   1. ]\n",
      " [ 1.5 -0.5]]\n",
      "True\n",
      "--------\n",
      "-2.0000000000000004\n"
     ]
    }
   ],
   "source": [
    "# inverse of a matrix\n",
    "a = np.array([[1.0, 2.0], [3.0, 4.0]])\n",
    "print(a)\n",
    "print(np.linalg.inv(a))\n",
    "print(np.allclose(np.dot(a, np.linalg.inv(a)), np.eye(2)))\n",
    "print(\"--------\")\n",
    "print(np.linalg.det(a))"
   ]
  },
  {
   "cell_type": "markdown",
   "metadata": {},
   "source": [
    "---"
   ]
  },
  {
   "cell_type": "markdown",
   "metadata": {},
   "source": [
    "## Matplotlib\n",
    "\n",
    "matlotlib is a 2D **plotting library**. \n",
    " \n",
    "You can have an idea of the possibilities offered by this package by exploring the [examples](http://matplotlib.org/examples/index.html) section of the documentation\n",
    "\n",
    "The easiest way to drop plots with matplotlib it is by relying on the MATLAB-like interface provided by the `pyplot` module."
   ]
  },
  {
   "cell_type": "code",
   "execution_count": 47,
   "metadata": {},
   "outputs": [],
   "source": [
    "import matplotlib.pyplot as plt\n",
    "\n",
    "# to make plots in IPython using Matplotlib, you must first enable IPython's matplotlib mode\n",
    "# we may want to use the backend inline, that will embed plots inside the Notebook\n",
    "%matplotlib inline  "
   ]
  },
  {
   "cell_type": "markdown",
   "metadata": {},
   "source": [
    "##### Line plots\n",
    "\n",
    "Line plots represents the relationship between *x*-values and *y*-values by means of a line. \n",
    "\n",
    "Graphs of this sort can be drawn by using the [`.plot()` function](https://matplotlib.org/api/pyplot_api.html#matplotlib.pyplot.plot), with its default settings "
   ]
  },
  {
   "cell_type": "code",
   "execution_count": 52,
   "metadata": {},
   "outputs": [],
   "source": [
    "# make an array for the x-values and one array for the y-values\n",
    "x = np.arange(1, 150)\n",
    "y = np.log(x)"
   ]
  },
  {
   "cell_type": "code",
   "execution_count": 65,
   "metadata": {},
   "outputs": [
    {
     "data": {
      "text/plain": [
       "[<matplotlib.lines.Line2D at 0x7f81d94c1130>]"
      ]
     },
     "execution_count": 65,
     "metadata": {},
     "output_type": "execute_result"
    },
    {
     "data": {
      "image/png": "[encoded data removed]",
      "text/plain": [
       "<Figure size 640x480 with 1 Axes>"
      ]
     },
     "metadata": {},
     "output_type": "display_data"
    }
   ],
   "source": [
    "# let's create the plot\n",
    "plt.plot(x, y)"
   ]
  },
  {
   "cell_type": "code",
   "execution_count": 66,
   "metadata": {},
   "outputs": [
    {
     "data": {
      "text/plain": [
       "<Figure size 640x480 with 0 Axes>"
      ]
     },
     "metadata": {},
     "output_type": "display_data"
    }
   ],
   "source": [
    "# export the plot in a .pdf file\n",
    "plt.savefig(\"data/exemplar-lineplot.pdf\")"
   ]
  },
  {
   "cell_type": "code",
   "execution_count": 67,
   "metadata": {},
   "outputs": [
    {
     "data": {
      "text/plain": [
       "<Figure size 640x480 with 0 Axes>"
      ]
     },
     "metadata": {},
     "output_type": "display_data"
    }
   ],
   "source": [
    "# export the plot in a .png file\n",
    "plt.savefig(\"data/exemplar-lineplot.png\")"
   ]
  },
  {
   "cell_type": "markdown",
   "metadata": {},
   "source": [
    "Multiple calls of the `.plot()` function draw **multiple line plots** in the same figure \n",
    "\n",
    "(note that matplotlib will try to automatically manage many graphical parameters among which the axis size and the line colors)"
   ]
  },
  {
   "cell_type": "code",
   "execution_count": 68,
   "metadata": {},
   "outputs": [
    {
     "data": {
      "text/plain": [
       "[<matplotlib.lines.Line2D at 0x7f81e0377eb0>]"
      ]
     },
     "execution_count": 68,
     "metadata": {},
     "output_type": "execute_result"
    },
    {
     "data": {
      "text/plain": [
       "[<matplotlib.lines.Line2D at 0x7f81d9d37670>]"
      ]
     },
     "execution_count": 68,
     "metadata": {},
     "output_type": "execute_result"
    },
    {
     "data": {
      "image/png": "[encoded data removed]",
      "text/plain": [
       "<Figure size 640x480 with 1 Axes>"
      ]
     },
     "metadata": {},
     "output_type": "display_data"
    }
   ],
   "source": [
    "plt.plot(x, y)  # think of (x, y) as an array (of rank 2) being plotted\n",
    "plt.plot(x, y * 2)"
   ]
  },
  {
   "cell_type": "markdown",
   "metadata": {},
   "source": [
    "##### Scatterplots\n",
    "\n",
    "A scatterplot represents one or more groups of observations as points in a cartesian space. \n",
    "\n",
    "The [`scatter()` function](https://matplotlib.org/api/pyplot_api.html#matplotlib.pyplot.plot) implements a method to draw this kind of plots."
   ]
  },
  {
   "cell_type": "code",
   "execution_count": 69,
   "metadata": {},
   "outputs": [],
   "source": [
    "n = 100\n",
    "x = np.random.normal(0, 1, n)\n",
    "y = np.random.normal(0, 1, n)"
   ]
  },
  {
   "cell_type": "code",
   "execution_count": 70,
   "metadata": {},
   "outputs": [
    {
     "data": {
      "text/plain": [
       "<matplotlib.collections.PathCollection at 0x7f81e0160df0>"
      ]
     },
     "execution_count": 70,
     "metadata": {},
     "output_type": "execute_result"
    },
    {
     "data": {
      "image/png": "[encoded data removed]",
      "text/plain": [
       "<Figure size 640x480 with 1 Axes>"
      ]
     },
     "metadata": {},
     "output_type": "display_data"
    }
   ],
   "source": [
    "plt.scatter(x, y)"
   ]
  },
  {
   "cell_type": "markdown",
   "metadata": {},
   "source": [
    "We can use different marker settings for `plot()` (marker type, size)"
   ]
  },
  {
   "cell_type": "code",
   "execution_count": 71,
   "metadata": {},
   "outputs": [
    {
     "data": {
      "text/plain": [
       "[<matplotlib.lines.Line2D at 0x7f81e0042490>]"
      ]
     },
     "execution_count": 71,
     "metadata": {},
     "output_type": "execute_result"
    },
    {
     "data": {
      "image/png": "[encoded data removed]",
      "text/plain": [
       "<Figure size 640x480 with 1 Axes>"
      ]
     },
     "metadata": {},
     "output_type": "display_data"
    }
   ],
   "source": [
    "plt.plot(x, y, \".\")"
   ]
  },
  {
   "cell_type": "markdown",
   "metadata": {},
   "source": [
    "Color-coding (the default behavior of both `scatter()` and `plot()` allows you to plot different groups of data points:"
   ]
  },
  {
   "cell_type": "code",
   "execution_count": 72,
   "metadata": {},
   "outputs": [
    {
     "data": {
      "text/plain": [
       "<matplotlib.collections.PathCollection at 0x7f81d94dc730>"
      ]
     },
     "execution_count": 72,
     "metadata": {},
     "output_type": "execute_result"
    },
    {
     "data": {
      "text/plain": [
       "<matplotlib.collections.PathCollection at 0x7f81d9501be0>"
      ]
     },
     "execution_count": 72,
     "metadata": {},
     "output_type": "execute_result"
    },
    {
     "data": {
      "image/png": "[encoded data removed]",
      "text/plain": [
       "<Figure size 640x480 with 1 Axes>"
      ]
     },
     "metadata": {},
     "output_type": "display_data"
    }
   ],
   "source": [
    "plt.scatter(x, y)\n",
    "plt.scatter(\n",
    "    x * 2, y * 2\n",
    ")  # what's happening here? (hint: array-like input to scatter...)"
   ]
  },
  {
   "cell_type": "markdown",
   "metadata": {},
   "source": [
    "##### Manipulating the appearance of a plot\n",
    "\n",
    "Matplotlib allows you to manipulate almost every property of a plot: figure size and resolution, line appearance, axis and grid properties, textual elements ..."
   ]
  },
  {
   "cell_type": "code",
   "execution_count": 73,
   "metadata": {},
   "outputs": [],
   "source": [
    "x = np.arange(1, 150)\n",
    "y = np.log(x)"
   ]
  },
  {
   "cell_type": "markdown",
   "metadata": {},
   "source": [
    "You to change the appearance of the **line**\n",
    "\n",
    "(NOTE: See the [matplotlib documentation](https://matplotlib.org/users/colors.html) for a quick introduction on how a color can be specified by the user)"
   ]
  },
  {
   "cell_type": "code",
   "execution_count": 74,
   "metadata": {},
   "outputs": [
    {
     "data": {
      "text/plain": [
       "[<matplotlib.lines.Line2D at 0x7f81d9b35550>]"
      ]
     },
     "execution_count": 74,
     "metadata": {},
     "output_type": "execute_result"
    },
    {
     "data": {
      "text/plain": [
       "[<matplotlib.lines.Line2D at 0x7f81d9b35520>]"
      ]
     },
     "execution_count": 74,
     "metadata": {},
     "output_type": "execute_result"
    },
    {
     "data": {
      "text/plain": [
       "[<matplotlib.lines.Line2D at 0x7f81e00302b0>]"
      ]
     },
     "execution_count": 74,
     "metadata": {},
     "output_type": "execute_result"
    },
    {
     "data": {
      "text/plain": [
       "[<matplotlib.lines.Line2D at 0x7f81e0030a60>]"
      ]
     },
     "execution_count": 74,
     "metadata": {},
     "output_type": "execute_result"
    },
    {
     "data": {
      "image/png": "[encoded data removed]",
      "text/plain": [
       "<Figure size 640x480 with 1 Axes>"
      ]
     },
     "metadata": {},
     "output_type": "display_data"
    }
   ],
   "source": [
    "plt.plot(x, y * 2.5, color=\"r\")  # you can change the line color\n",
    "plt.plot(x, y * 2, linewidth=0.75)  # you can change the line width\n",
    "plt.plot(x, y * 1.5, linestyle=\"--\")  # you can change the line style\n",
    "plt.plot(x, y, marker=\"*\")  # you can change the marker style"
   ]
  },
  {
   "cell_type": "markdown",
   "metadata": {},
   "source": [
    "You can manually choose the **axis limits**, the **axis titles**, the **axis ticks** and **their text** (and plot a grid, if you like):"
   ]
  },
  {
   "cell_type": "code",
   "execution_count": 75,
   "metadata": {},
   "outputs": [
    {
     "data": {
      "text/plain": [
       "[<matplotlib.lines.Line2D at 0x7f81d928cee0>]"
      ]
     },
     "execution_count": 75,
     "metadata": {},
     "output_type": "execute_result"
    },
    {
     "data": {
      "text/plain": [
       "(0.0, 7.0)"
      ]
     },
     "execution_count": 75,
     "metadata": {},
     "output_type": "execute_result"
    },
    {
     "data": {
      "text/plain": [
       "(-5.0, 155.0)"
      ]
     },
     "execution_count": 75,
     "metadata": {},
     "output_type": "execute_result"
    },
    {
     "data": {
      "text/plain": [
       "Text(0, 0.5, 'log (x)')"
      ]
     },
     "execution_count": 75,
     "metadata": {},
     "output_type": "execute_result"
    },
    {
     "data": {
      "text/plain": [
       "([<matplotlib.axis.XTick at 0x7f81d9362100>,\n",
       "  <matplotlib.axis.XTick at 0x7f81d9362190>,\n",
       "  <matplotlib.axis.XTick at 0x7f81d9463550>,\n",
       "  <matplotlib.axis.XTick at 0x7f81d92b6b80>],\n",
       " [Text(0, 0, 'zero'),\n",
       "  Text(50, 0, 'fifty'),\n",
       "  Text(100, 0, 'one hundred'),\n",
       "  Text(150, 0, 'one hundred and fifty')])"
      ]
     },
     "execution_count": 75,
     "metadata": {},
     "output_type": "execute_result"
    },
    {
     "data": {
      "image/png": "[encoded data removed]",
      "text/plain": [
       "<Figure size 640x480 with 1 Axes>"
      ]
     },
     "metadata": {},
     "output_type": "display_data"
    }
   ],
   "source": [
    "plt.plot(x, y)\n",
    "\n",
    "# set the axis limits\n",
    "plt.ylim(0, 7)\n",
    "plt.xlim(-5, 155)  # set the x-axes limits\n",
    "\n",
    "# let's set the y-axis text\n",
    "plt.ylabel(\"log (x)\")\n",
    "\n",
    "# let's set the x-axis ticks and their text (in an awful way...)\n",
    "plt.xticks(\n",
    "    range(0, 151, 50),\n",
    "    [\"zero\", \"fifty\", \"one hundred\", \"one hundred and fifty\"],\n",
    "    size=\"small\",\n",
    ")\n",
    "\n",
    "# fancy a grid?\n",
    "plt.grid(True)"
   ]
  },
  {
   "cell_type": "markdown",
   "metadata": {},
   "source": [
    "You can give the plot a **main title** and add a **legend**"
   ]
  },
  {
   "cell_type": "code",
   "execution_count": 76,
   "metadata": {},
   "outputs": [
    {
     "data": {
      "text/plain": [
       "[<matplotlib.lines.Line2D at 0x7f81d9220190>]"
      ]
     },
     "execution_count": 76,
     "metadata": {},
     "output_type": "execute_result"
    },
    {
     "data": {
      "text/plain": [
       "[<matplotlib.lines.Line2D at 0x7f81d9220520>]"
      ]
     },
     "execution_count": 76,
     "metadata": {},
     "output_type": "execute_result"
    },
    {
     "data": {
      "text/plain": [
       "[<matplotlib.lines.Line2D at 0x7f81d9220940>]"
      ]
     },
     "execution_count": 76,
     "metadata": {},
     "output_type": "execute_result"
    },
    {
     "data": {
      "text/plain": [
       "Text(0.5, 1.0, 'Logarithms Comparison')"
      ]
     },
     "execution_count": 76,
     "metadata": {},
     "output_type": "execute_result"
    },
    {
     "data": {
      "text/plain": [
       "<matplotlib.legend.Legend at 0x7f81d9220820>"
      ]
     },
     "execution_count": 76,
     "metadata": {},
     "output_type": "execute_result"
    },
    {
     "data": {
      "image/png": "[encoded data removed]",
      "text/plain": [
       "<Figure size 640x480 with 1 Axes>"
      ]
     },
     "metadata": {},
     "output_type": "display_data"
    }
   ],
   "source": [
    "plt.plot(x, np.log10(x))\n",
    "plt.plot(x, np.log(x))\n",
    "plt.plot(x, np.log2(x))\n",
    "\n",
    "# create the main title\n",
    "plt.title(\"Logarithms Comparison\")\n",
    "\n",
    "# add a legend\n",
    "plt.legend([\"base 10\", \"natural\", \"base 2\"])"
   ]
  },
  {
   "cell_type": "markdown",
   "metadata": {},
   "source": [
    "You can also **annotate** some points that may be of any interest (see [this tutorial](https://matplotlib.org/users/annotations_intro.html))"
   ]
  },
  {
   "cell_type": "code",
   "execution_count": 79,
   "metadata": {},
   "outputs": [
    {
     "data": {
      "text/plain": [
       "[<matplotlib.lines.Line2D at 0x7f81d9147d00>]"
      ]
     },
     "execution_count": 79,
     "metadata": {},
     "output_type": "execute_result"
    },
    {
     "data": {
      "text/plain": [
       "Text(35, 2, \"that's log(20) !\")"
      ]
     },
     "execution_count": 79,
     "metadata": {},
     "output_type": "execute_result"
    },
    {
     "data": {
      "image/png": "[encoded data removed]",
      "text/plain": [
       "<Figure size 640x480 with 1 Axes>"
      ]
     },
     "metadata": {},
     "output_type": "display_data"
    }
   ],
   "source": [
    "plt.plot(x, y)\n",
    "plt.annotate(\n",
    "    \"that's log(20) !\",\n",
    "    xy=(20, np.log(20)),\n",
    "    xytext=(35, 2),\n",
    "    arrowprops=dict(facecolor=\"r\", edgecolor=\"None\", shrink=0.1),\n",
    ")"
   ]
  },
  {
   "cell_type": "markdown",
   "metadata": {},
   "source": [
    "##### Bar plots\n",
    "\n",
    "Unfortunately, humans are quite bad at comparing angles, so a better way to compare the frequencies of categorical data is to use bar plots. In these graphs:\n",
    "\n",
    "- every bar is associated with a given value\n",
    "\n",
    "\n",
    "- the height of each bar is proportional to the frequency of a given value\n",
    "\n",
    "\n",
    "- all the bars have the same width\n",
    "\n",
    "These plots can be drawn by using the [`bar()`](https://matplotlib.org/api/pyplot_api.html#matplotlib.pyplot.bar) or the [`barh()](https://matplotlib.org/api/pyplot_api.html#matplotlib.pyplot.barh) functions"
   ]
  },
  {
   "cell_type": "code",
   "execution_count": 80,
   "metadata": {},
   "outputs": [],
   "source": [
    "import string\n",
    "\n",
    "n = 12\n",
    "x = np.arange(n)\n",
    "y = np.random.uniform(0.5, 1.0, n)"
   ]
  },
  {
   "cell_type": "code",
   "execution_count": 83,
   "metadata": {},
   "outputs": [
    {
     "data": {
      "text/plain": [
       "<BarContainer object of 12 artists>"
      ]
     },
     "execution_count": 83,
     "metadata": {},
     "output_type": "execute_result"
    },
    {
     "data": {
      "text/plain": [
       "([<matplotlib.axis.XTick at 0x7f81d9181a30>,\n",
       "  <matplotlib.axis.XTick at 0x7f81d9181880>,\n",
       "  <matplotlib.axis.XTick at 0x7f81d94d6fd0>,\n",
       "  <matplotlib.axis.XTick at 0x7f81d8e8fc70>,\n",
       "  <matplotlib.axis.XTick at 0x7f81d8eaa760>,\n",
       "  <matplotlib.axis.XTick at 0x7f81d8eaafd0>,\n",
       "  <matplotlib.axis.XTick at 0x7f81d8eb9d60>,\n",
       "  <matplotlib.axis.XTick at 0x7f81d8ea5e80>,\n",
       "  <matplotlib.axis.XTick at 0x7f81d8ebc610>,\n",
       "  <matplotlib.axis.XTick at 0x7f81d8ebcf40>,\n",
       "  <matplotlib.axis.XTick at 0x7f81d8ec8bb0>,\n",
       "  <matplotlib.axis.XTick at 0x7f81d8ec59d0>],\n",
       " [Text(0, 0, 'A'),\n",
       "  Text(1, 0, 'B'),\n",
       "  Text(2, 0, 'C'),\n",
       "  Text(3, 0, 'D'),\n",
       "  Text(4, 0, 'E'),\n",
       "  Text(5, 0, 'F'),\n",
       "  Text(6, 0, 'G'),\n",
       "  Text(7, 0, 'H'),\n",
       "  Text(8, 0, 'I'),\n",
       "  Text(9, 0, 'J'),\n",
       "  Text(10, 0, 'K'),\n",
       "  Text(11, 0, 'L')])"
      ]
     },
     "execution_count": 83,
     "metadata": {},
     "output_type": "execute_result"
    },
    {
     "data": {
      "image/png": "[encoded data removed]",
      "text/plain": [
       "<Figure size 640x480 with 1 Axes>"
      ]
     },
     "metadata": {},
     "output_type": "display_data"
    }
   ],
   "source": [
    "# vertical barplot\n",
    "plt.bar(x, y)\n",
    "plt.xticks(\n",
    "    x, list(string.ascii_uppercase[:n]), size=\"small\"\n",
    ")  # let's use some random letters for each value of a variable"
   ]
  },
  {
   "cell_type": "code",
   "execution_count": 85,
   "metadata": {},
   "outputs": [
    {
     "data": {
      "text/plain": [
       "<BarContainer object of 12 artists>"
      ]
     },
     "execution_count": 85,
     "metadata": {},
     "output_type": "execute_result"
    },
    {
     "data": {
      "text/plain": [
       "([<matplotlib.axis.YTick at 0x7f81d8df1250>,\n",
       "  <matplotlib.axis.YTick at 0x7f81d8de4be0>,\n",
       "  <matplotlib.axis.YTick at 0x7f81d8ffc760>,\n",
       "  <matplotlib.axis.YTick at 0x7f81d8def160>,\n",
       "  <matplotlib.axis.YTick at 0x7f81d8daac40>,\n",
       "  <matplotlib.axis.YTick at 0x7f81d8eb9ca0>,\n",
       "  <matplotlib.axis.YTick at 0x7f81d8f41b80>,\n",
       "  <matplotlib.axis.YTick at 0x7f81d8daa5b0>,\n",
       "  <matplotlib.axis.YTick at 0x7f81d8d390a0>,\n",
       "  <matplotlib.axis.YTick at 0x7f81d8d39be0>,\n",
       "  <matplotlib.axis.YTick at 0x7f81d8d0ac10>,\n",
       "  <matplotlib.axis.YTick at 0x7f81d8d0c700>],\n",
       " [Text(0, 0, 'A'),\n",
       "  Text(0, 1, 'B'),\n",
       "  Text(0, 2, 'C'),\n",
       "  Text(0, 3, 'D'),\n",
       "  Text(0, 4, 'E'),\n",
       "  Text(0, 5, 'F'),\n",
       "  Text(0, 6, 'G'),\n",
       "  Text(0, 7, 'H'),\n",
       "  Text(0, 8, 'I'),\n",
       "  Text(0, 9, 'J'),\n",
       "  Text(0, 10, 'K'),\n",
       "  Text(0, 11, 'L')])"
      ]
     },
     "execution_count": 85,
     "metadata": {},
     "output_type": "execute_result"
    },
    {
     "data": {
      "image/png": "[encoded data removed]",
      "text/plain": [
       "<Figure size 640x480 with 1 Axes>"
      ]
     },
     "metadata": {},
     "output_type": "display_data"
    }
   ],
   "source": [
    "# horizontal barplot\n",
    "plt.barh(x, y)\n",
    "plt.yticks(x, list(string.ascii_uppercase[:n]), size=\"small\")"
   ]
  },
  {
   "cell_type": "markdown",
   "metadata": {
    "collapsed": true
   },
   "source": [
    "##### Histograms\n",
    "\n",
    "Roughly speaking, histogram are for continuous (a.k.a. numerical) variables what barplots are for categorical variables. Also in this kind of plot, indeed, values are represented by means of bars. However:\n",
    "\n",
    "\n",
    "- each bar is associated with a bin (i.e. an interval of values)\n",
    "\n",
    "\n",
    "- the area inside the bars (rather than their height) is proportional to the frequency of a value or of a set of values\n",
    "\n",
    "\n",
    "- the width of each bar is proportional to the bin size.\n",
    "\n",
    "\n",
    "\n",
    "The [`hist()`](https://matplotlib.org/api/pyplot_api.html#matplotlib.pyplot.hist) function implements most of the functionalities you'll need to plot histograms."
   ]
  },
  {
   "cell_type": "code",
   "execution_count": 86,
   "metadata": {},
   "outputs": [],
   "source": [
    "data = np.random.normal(-1, 1, 10000)"
   ]
  },
  {
   "cell_type": "code",
   "execution_count": 87,
   "metadata": {},
   "outputs": [
    {
     "data": {
      "image/png": "[encoded data removed]",
      "text/plain": [
       "<Figure size 640x480 with 1 Axes>"
      ]
     },
     "metadata": {},
     "output_type": "display_data"
    }
   ],
   "source": [
    "a = plt.hist(data, density=True, edgecolor=\"black\")"
   ]
  },
  {
   "cell_type": "markdown",
   "metadata": {},
   "source": [
    "the `bins` argument allows us to specify in how many bins we want to organize our values:"
   ]
  },
  {
   "cell_type": "code",
   "execution_count": 90,
   "metadata": {},
   "outputs": [
    {
     "data": {
      "text/plain": [
       "(array([0.00064905, 0.        , 0.00129811, 0.00064905, 0.00324527,\n",
       "        0.00454338, 0.0071396 , 0.00908676, 0.01817352, 0.03050555,\n",
       "        0.03959231, 0.05581867, 0.07269408, 0.10060342, 0.12591654,\n",
       "        0.15382587, 0.17654277, 0.22392374, 0.26221794, 0.30440648,\n",
       "        0.32517621, 0.38683637, 0.35503271, 0.3835911 , 0.37190812,\n",
       "        0.3764515 , 0.38748543, 0.37061002, 0.33945541, 0.30440648,\n",
       "        0.26351605, 0.21808225, 0.19147102, 0.16031642, 0.12137316,\n",
       "        0.09735815, 0.08437706, 0.05192435, 0.04348664, 0.01882258,\n",
       "        0.01492825, 0.01233203, 0.00843771, 0.00454338, 0.00454338,\n",
       "        0.00064905, 0.00064905, 0.00129811, 0.        , 0.00064905]),\n",
       " array([-4.76456993, -4.61049962, -4.45642931, -4.302359  , -4.14828869,\n",
       "        -3.99421838, -3.84014807, -3.68607776, -3.53200745, -3.37793714,\n",
       "        -3.22386683, -3.06979652, -2.91572621, -2.7616559 , -2.60758559,\n",
       "        -2.45351528, -2.29944497, -2.14537466, -1.99130435, -1.83723404,\n",
       "        -1.68316373, -1.52909342, -1.37502311, -1.2209528 , -1.06688249,\n",
       "        -0.91281218, -0.75874187, -0.60467156, -0.45060125, -0.29653094,\n",
       "        -0.14246063,  0.01160968,  0.16567999,  0.3197503 ,  0.47382061,\n",
       "         0.62789092,  0.78196123,  0.93603154,  1.09010185,  1.24417216,\n",
       "         1.39824247,  1.55231278,  1.70638309,  1.8604534 ,  2.01452371,\n",
       "         2.16859402,  2.32266433,  2.47673464,  2.63080495,  2.78487526,\n",
       "         2.93894557]),\n",
       " <BarContainer object of 50 artists>)"
      ]
     },
     "execution_count": 90,
     "metadata": {},
     "output_type": "execute_result"
    },
    {
     "data": {
      "image/png": "[encoded data removed]",
      "text/plain": [
       "<Figure size 640x480 with 1 Axes>"
      ]
     },
     "metadata": {},
     "output_type": "display_data"
    }
   ],
   "source": [
    "plt.hist(data, bins=50, density=True, edgecolor=\"black\")"
   ]
  },
  {
   "cell_type": "code",
   "execution_count": 91,
   "metadata": {},
   "outputs": [
    {
     "data": {
      "text/plain": [
       "(array([0.00194716, 0.        , 0.        , 0.        , 0.        ,\n",
       "        0.        , 0.        , 0.        , 0.00389433, 0.        ,\n",
       "        0.        , 0.00194716, 0.00389433, 0.00584149, 0.        ,\n",
       "        0.00584149, 0.00389433, 0.00389433, 0.00973581, 0.00584149,\n",
       "        0.00584149, 0.00778865, 0.01168298, 0.00778865, 0.01363014,\n",
       "        0.02141879, 0.01947163, 0.03115461, 0.03115461, 0.02920744,\n",
       "        0.03310177, 0.05062624, 0.03504893, 0.02920744, 0.05452056,\n",
       "        0.08372801, 0.0525734 , 0.08567517, 0.07983368, 0.09346382,\n",
       "        0.11682978, 0.09151666, 0.11098829, 0.12267127, 0.14409006,\n",
       "        0.14409006, 0.15382587, 0.16356169, 0.16745601, 0.19276913,\n",
       "        0.16940318, 0.21224076, 0.23560672, 0.22392374, 0.25702551,\n",
       "        0.25702551, 0.27260281, 0.2784443 , 0.29012728, 0.34464784,\n",
       "        0.34075352, 0.32128189, 0.31349324, 0.39916841, 0.36022515,\n",
       "        0.40111557, 0.38748543, 0.3680138 , 0.30959891, 0.38943259,\n",
       "        0.36022515, 0.40111557, 0.36996096, 0.39527408, 0.35048933,\n",
       "        0.38943259, 0.36217231, 0.37774961, 0.34854217, 0.36606664,\n",
       "        0.44784748, 0.41474571, 0.35048933, 0.34659501, 0.30375742,\n",
       "        0.35243649, 0.36217231, 0.32712338, 0.30765175, 0.2784443 ,\n",
       "        0.25313118, 0.26481416, 0.27260281, 0.20445211, 0.22002941,\n",
       "        0.22976523, 0.20250495, 0.17719183, 0.1947163 , 0.16356169,\n",
       "        0.17524467, 0.1421429 , 0.13630141, 0.10709396, 0.1207241 ,\n",
       "        0.11098829, 0.1051468 , 0.07593936, 0.10709396, 0.08762233,\n",
       "        0.05841489, 0.06230921, 0.05062624, 0.04283758, 0.05841489,\n",
       "        0.03310177, 0.03894326, 0.01947163, 0.02531312, 0.01168298,\n",
       "        0.01947163, 0.0155773 , 0.00973581, 0.0155773 , 0.0155773 ,\n",
       "        0.00584149, 0.00584149, 0.00778865, 0.01168298, 0.00194716,\n",
       "        0.00778865, 0.00389433, 0.00584149, 0.00584149, 0.00194716,\n",
       "        0.00194716, 0.        , 0.        , 0.00194716, 0.        ,\n",
       "        0.        , 0.00194716, 0.        , 0.00194716, 0.        ,\n",
       "        0.        , 0.        , 0.        , 0.        , 0.00194716]),\n",
       " array([-4.76456993, -4.71321316, -4.66185639, -4.61049962, -4.55914285,\n",
       "        -4.50778608, -4.45642931, -4.40507254, -4.35371577, -4.302359  ,\n",
       "        -4.25100223, -4.19964546, -4.14828869, -4.09693192, -4.04557515,\n",
       "        -3.99421838, -3.94286161, -3.89150484, -3.84014807, -3.7887913 ,\n",
       "        -3.73743453, -3.68607776, -3.63472099, -3.58336422, -3.53200745,\n",
       "        -3.48065068, -3.42929391, -3.37793714, -3.32658037, -3.2752236 ,\n",
       "        -3.22386683, -3.17251006, -3.12115329, -3.06979652, -3.01843975,\n",
       "        -2.96708298, -2.91572621, -2.86436944, -2.81301267, -2.7616559 ,\n",
       "        -2.71029913, -2.65894236, -2.60758559, -2.55622882, -2.50487205,\n",
       "        -2.45351528, -2.40215851, -2.35080174, -2.29944497, -2.2480882 ,\n",
       "        -2.19673143, -2.14537466, -2.09401789, -2.04266112, -1.99130435,\n",
       "        -1.93994758, -1.88859081, -1.83723404, -1.78587727, -1.7345205 ,\n",
       "        -1.68316373, -1.63180696, -1.58045019, -1.52909342, -1.47773665,\n",
       "        -1.42637988, -1.37502311, -1.32366634, -1.27230957, -1.2209528 ,\n",
       "        -1.16959603, -1.11823926, -1.06688249, -1.01552572, -0.96416895,\n",
       "        -0.91281218, -0.86145541, -0.81009864, -0.75874187, -0.7073851 ,\n",
       "        -0.65602833, -0.60467156, -0.55331479, -0.50195802, -0.45060125,\n",
       "        -0.39924448, -0.34788771, -0.29653094, -0.24517417, -0.1938174 ,\n",
       "        -0.14246063, -0.09110386, -0.03974709,  0.01160968,  0.06296645,\n",
       "         0.11432322,  0.16567999,  0.21703676,  0.26839353,  0.3197503 ,\n",
       "         0.37110707,  0.42246384,  0.47382061,  0.52517738,  0.57653415,\n",
       "         0.62789092,  0.67924769,  0.73060446,  0.78196123,  0.833318  ,\n",
       "         0.88467477,  0.93603154,  0.98738831,  1.03874508,  1.09010185,\n",
       "         1.14145862,  1.19281539,  1.24417216,  1.29552893,  1.3468857 ,\n",
       "         1.39824247,  1.44959924,  1.50095601,  1.55231278,  1.60366955,\n",
       "         1.65502632,  1.70638309,  1.75773986,  1.80909663,  1.8604534 ,\n",
       "         1.91181017,  1.96316694,  2.01452371,  2.06588048,  2.11723725,\n",
       "         2.16859402,  2.21995079,  2.27130756,  2.32266433,  2.3740211 ,\n",
       "         2.42537787,  2.47673464,  2.52809141,  2.57944818,  2.63080495,\n",
       "         2.68216172,  2.73351849,  2.78487526,  2.83623203,  2.8875888 ,\n",
       "         2.93894557]),\n",
       " <BarContainer object of 150 artists>)"
      ]
     },
     "execution_count": 91,
     "metadata": {},
     "output_type": "execute_result"
    },
    {
     "data": {
      "image/png": "[encoded data removed]",
      "text/plain": [
       "<Figure size 640x480 with 1 Axes>"
      ]
     },
     "metadata": {},
     "output_type": "display_data"
    }
   ],
   "source": [
    "# we won't draw the edge of each bar\n",
    "plt.hist(data, bins=150, density=True)"
   ]
  },
  {
   "cell_type": "markdown",
   "metadata": {},
   "source": [
    "We set `density = True` in order to plot the **frequency density** of a bin (i.e. the relative frequency of a bin divided by its width), rather than its relative (or absolute) frequency (as it is in the graph bar). \n",
    "\n",
    "When the bins are equally spaced, the relative (or absolute) frequency and the frequency density are proportional. However, this proportionality is lost when the histograms plots the density of **unequally spaced** bins (i.e. when the value of the argument `bins` is a sequence)."
   ]
  },
  {
   "cell_type": "code",
   "execution_count": 92,
   "metadata": {},
   "outputs": [
    {
     "data": {
      "image/png": "[encoded data removed]",
      "text/plain": [
       "<Figure size 640x480 with 1 Axes>"
      ]
     },
     "metadata": {},
     "output_type": "display_data"
    }
   ],
   "source": [
    "n, bins, patches = plt.hist(data, bins=999, density=False)"
   ]
  },
  {
   "cell_type": "code",
   "execution_count": 93,
   "metadata": {},
   "outputs": [
    {
     "data": {
      "image/png": "[encoded data removed]",
      "text/plain": [
       "<Figure size 640x480 with 1 Axes>"
      ]
     },
     "metadata": {},
     "output_type": "display_data"
    }
   ],
   "source": [
    "# equal bins ('density' doesn't matter for overall 'shape')\n",
    "n, bins, patches = plt.hist(data, bins=9, density=False, edgecolor=\"black\")\n",
    "patches[4].set_fc(\"r\")\n",
    "patches[5].set_fc(\"r\")\n",
    "patches[6].set_fc(\"r\")\n",
    "patches[7].set_fc(\"r\")\n",
    "patches[8].set_fc(\"r\")"
   ]
  },
  {
   "cell_type": "code",
   "execution_count": 94,
   "metadata": {},
   "outputs": [
    {
     "data": {
      "image/png": "[encoded data removed]",
      "text/plain": [
       "<Figure size 640x480 with 1 Axes>"
      ]
     },
     "metadata": {},
     "output_type": "display_data"
    }
   ],
   "source": [
    "# unequal bins. density = False (relative frequency)\n",
    "n, bins, patches = plt.hist(\n",
    "    data,\n",
    "    bins=np.array([min(data), -3, -2, -1, max(data)]),\n",
    "    density=False,\n",
    "    edgecolor=\"black\",\n",
    ")\n",
    "patches[3].set_fc(\"r\")"
   ]
  },
  {
   "cell_type": "code",
   "execution_count": 95,
   "metadata": {},
   "outputs": [
    {
     "data": {
      "image/png": "[encoded data removed]",
      "text/plain": [
       "<Figure size 640x480 with 1 Axes>"
      ]
     },
     "metadata": {},
     "output_type": "display_data"
    }
   ],
   "source": [
    "# unequal bins. density = True (frequency density)\n",
    "n, bins, patches = plt.hist(\n",
    "    data,\n",
    "    bins=np.array([min(data), -3, -2, -1, max(data)]),\n",
    "    density=True,\n",
    "    edgecolor=\"black\",\n",
    ")\n",
    "patches[3].set_fc(\"r\")"
   ]
  },
  {
   "cell_type": "markdown",
   "metadata": {},
   "source": [
    "##### Drawing several plots per canvas\n",
    "\n",
    "Multiple plots per canvas can be drawn by using the function `subplot()` to setup a grid and activate one plot per time"
   ]
  },
  {
   "cell_type": "code",
   "execution_count": 101,
   "metadata": {},
   "outputs": [],
   "source": [
    "%matplotlib inline\n",
    "\n",
    "x = np.arange(1, 150)\n",
    "y_base10_log = np.log10(x)\n",
    "y_natural_log = np.log(x)\n",
    "y_base2_log = np.log2(x)"
   ]
  },
  {
   "cell_type": "code",
   "execution_count": 102,
   "metadata": {},
   "outputs": [
    {
     "data": {
      "text/plain": [
       "<Axes: title={'center': 'Base 10 Log'}>"
      ]
     },
     "execution_count": 102,
     "metadata": {},
     "output_type": "execute_result"
    },
    {
     "data": {
      "text/plain": [
       "[<matplotlib.lines.Line2D at 0x7f81d8b466d0>]"
      ]
     },
     "execution_count": 102,
     "metadata": {},
     "output_type": "execute_result"
    },
    {
     "data": {
      "text/plain": [
       "Text(0.5, 1.0, 'Base 10 Log')"
      ]
     },
     "execution_count": 102,
     "metadata": {},
     "output_type": "execute_result"
    }
   ],
   "source": [
    "# Set up a 2 x 2 grid, set the first plot as active and draw the first curve\n",
    "plt.subplot(2, 2, 1)\n",
    "plt.plot(x, y_base10_log)\n",
    "plt.title(\"Base 10 Log\")\n",
    "\n",
    "# uncomment to compare subplots with the same y-axis limits\n",
    "# plt.ylim(0,8)"
   ]
  },
  {
   "cell_type": "code",
   "execution_count": 103,
   "metadata": {},
   "outputs": [
    {
     "data": {
      "text/plain": [
       "<Axes: title={'center': 'Natural Log'}>"
      ]
     },
     "execution_count": 103,
     "metadata": {},
     "output_type": "execute_result"
    },
    {
     "data": {
      "text/plain": [
       "[<matplotlib.lines.Line2D at 0x7f81d825f2e0>]"
      ]
     },
     "execution_count": 103,
     "metadata": {},
     "output_type": "execute_result"
    },
    {
     "data": {
      "text/plain": [
       "Text(0.5, 1.0, 'Natural Log')"
      ]
     },
     "execution_count": 103,
     "metadata": {},
     "output_type": "execute_result"
    }
   ],
   "source": [
    "# activate the second subplot and draw the second curve\n",
    "plt.subplot(2, 2, 2)\n",
    "plt.plot(x, y_natural_log)\n",
    "plt.title(\"Natural Log\")\n",
    "\n",
    "# uncomment to compare subplots with the same y-axis limits\n",
    "# plt.ylim(0,8)"
   ]
  },
  {
   "cell_type": "code",
   "execution_count": 104,
   "metadata": {},
   "outputs": [
    {
     "data": {
      "text/plain": [
       "<Axes: title={'center': 'Base 2 Log'}>"
      ]
     },
     "execution_count": 104,
     "metadata": {},
     "output_type": "execute_result"
    },
    {
     "data": {
      "text/plain": [
       "[<matplotlib.lines.Line2D at 0x7f81d3709c10>]"
      ]
     },
     "execution_count": 104,
     "metadata": {},
     "output_type": "execute_result"
    },
    {
     "data": {
      "text/plain": [
       "Text(0.5, 1.0, 'Base 2 Log')"
      ]
     },
     "execution_count": 104,
     "metadata": {},
     "output_type": "execute_result"
    }
   ],
   "source": [
    "# activate the third subplot and draw the third curve\n",
    "plt.subplot(2, 2, 3)\n",
    "plt.plot(x, y_base2_log)\n",
    "plt.title(\"Base 2 Log\")\n",
    "\n",
    "# uncomment to compare subplots with the same y-axis limits\n",
    "# plt.ylim(0,8)"
   ]
  },
  {
   "cell_type": "code",
   "execution_count": 105,
   "metadata": {},
   "outputs": [
    {
     "data": {
      "image/png": "[encoded data removed]",
      "text/plain": [
       "<Figure size 640x480 with 3 Axes>"
      ]
     },
     "metadata": {},
     "output_type": "display_data"
    }
   ],
   "source": [
    "plt.tight_layout()  # adjust spacing between subplots to minimize the overlaps.\n",
    "plt.show()"
   ]
  },
  {
   "cell_type": "markdown",
   "metadata": {},
   "source": [
    "> **Further Reading:**\n",
    ">\n",
    "> Tutorial introductions to the Python scientific computing libraries (including other libraries that we'll briefly use in this class, such as \"SciPy\", \"Pandas\" and \"scikit-learn\") can be found in:\n",
    ">\n",
    "> - the [SciPy Lecture Notes](http://www.scipy-lectures.org/) ( the [pdf version](http://www.scipy-lectures.org/_downloads/ScipyLectures-simple.pdf)).\n",
    ">\n",
    ">\n",
    "> - The `python-course.eu` section dedicated to [Numerical Python](https://www.python-course.eu/numerical_programming.php).\n",
    ">\n",
    ">\n",
    "> - For a gentle introduction to the main matplotlib modules, have a look at the [beginner's guide](https://matplotlib.org/users/beginner.html) available on `matplotlib.org`.\n",
    ">\n",
    ">\n",
    "> - An excellent plotting package built on top of matplotlib is called [`Seaborn`](https://seaborn.pydata.org)."
   ]
  },
  {
   "cell_type": "markdown",
   "metadata": {},
   "source": [
    "### Exercise 1.\n",
    "\n",
    "Plot the sine and the cosine waves in the same graph"
   ]
  },
  {
   "cell_type": "code",
   "execution_count": 113,
   "metadata": {},
   "outputs": [
    {
     "data": {
      "text/plain": [
       "[<matplotlib.lines.Line2D at 0x7f81d8a4c4f0>]"
      ]
     },
     "execution_count": 113,
     "metadata": {},
     "output_type": "execute_result"
    },
    {
     "data": {
      "text/plain": [
       "[<matplotlib.lines.Line2D at 0x7f81d8a4c880>]"
      ]
     },
     "execution_count": 113,
     "metadata": {},
     "output_type": "execute_result"
    },
    {
     "data": {
      "text/plain": [
       "<matplotlib.lines.Line2D at 0x7f81d8a4c8b0>"
      ]
     },
     "execution_count": 113,
     "metadata": {},
     "output_type": "execute_result"
    },
    {
     "data": {
      "text/plain": [
       "<matplotlib.lines.Line2D at 0x7f81d8a4ce50>"
      ]
     },
     "execution_count": 113,
     "metadata": {},
     "output_type": "execute_result"
    },
    {
     "data": {
      "text/plain": [
       "Text(0.5, 1.0, 'Sine and Cosine')"
      ]
     },
     "execution_count": 113,
     "metadata": {},
     "output_type": "execute_result"
    },
    {
     "data": {
      "text/plain": [
       "<matplotlib.legend.Legend at 0x7f81d854fcd0>"
      ]
     },
     "execution_count": 113,
     "metadata": {},
     "output_type": "execute_result"
    },
    {
     "data": {
      "text/plain": [
       "([<matplotlib.axis.XTick at 0x7f81d3ebe5e0>,\n",
       "  <matplotlib.axis.XTick at 0x7f81d3ebe6a0>,\n",
       "  <matplotlib.axis.XTick at 0x7f81d8a7dfa0>,\n",
       "  <matplotlib.axis.XTick at 0x7f81d8a4d760>,\n",
       "  <matplotlib.axis.XTick at 0x7f81d8a4dfd0>,\n",
       "  <matplotlib.axis.XTick at 0x7f81d8a4fc40>,\n",
       "  <matplotlib.axis.XTick at 0x7f81d8a6e760>,\n",
       "  <matplotlib.axis.XTick at 0x7f81d3583d60>,\n",
       "  <matplotlib.axis.XTick at 0x7f81d84841c0>],\n",
       " [Text(-6.283185307179586, 0, '-4π/2'),\n",
       "  Text(-4.71238898038469, 0, '-3π/2'),\n",
       "  Text(-3.141592653589793, 0, '-2π/2'),\n",
       "  Text(-1.5707963267948966, 0, '-1π/2'),\n",
       "  Text(0.0, 0, '0'),\n",
       "  Text(1.5707963267948966, 0, '1π/2'),\n",
       "  Text(3.141592653589793, 0, '2π/2'),\n",
       "  Text(4.71238898038469, 0, '3π/2'),\n",
       "  Text(6.283185307179586, 0, '4π/2')])"
      ]
     },
     "execution_count": 113,
     "metadata": {},
     "output_type": "execute_result"
    },
    {
     "data": {
      "image/png": "[encoded data removed]",
      "text/plain": [
       "<Figure size 640x480 with 1 Axes>"
      ]
     },
     "metadata": {},
     "output_type": "display_data"
    }
   ],
   "source": [
    "import numpy as np\n",
    "\n",
    "plt.plot(x, s, label=\"sin\")\n",
    "plt.plot(x, c, label=\"cos\")\n",
    "plt.axhline(0, color=\"black\", linewidth=0.5)  # horizontal line at y=0\n",
    "plt.axvline(0, color=\"black\", linewidth=0.5)  # vertical line at x=0\n",
    "plt.title(\"Sine and Cosine\")\n",
    "plt.legend()\n",
    "\n",
    "# Set x-axis labels at multiples of π/2\n",
    "ticks = np.arange(-2 * np.pi, 2.5 * np.pi, np.pi / 2)\n",
    "labels = [f\"{i}π/2\" if i != 0 else \"0\" for i in range(-4, 5)]\n",
    "plt.xticks(ticks, labels)\n",
    "\n",
    "plt.show()\n"
   ]
  },
  {
   "cell_type": "markdown",
   "metadata": {},
   "source": [
    "### Exercise 2.\n",
    "\n",
    "Read the file data/adams-hhgttg.txt and:\n",
    "\n",
    "\n",
    "- count the occurrences of each word.\n",
    "\n",
    "\n",
    "- Create a graph plotting word frequencies (on the **y-axis**) by words sorted by frequency (that is, you list the corpus words from the most frequency to the least frequent words **x-axis**). For clarity, please do not report the words in the x-axis label.\n",
    "\n",
    "\n",
    "- In a similar graph, plot the frequencies of the top-frequent 25 words."
   ]
  },
  {
   "cell_type": "code",
   "execution_count": 107,
   "metadata": {},
   "outputs": [],
   "source": [
    "# your code here"
   ]
  },
  {
   "cell_type": "markdown",
   "metadata": {
    "slideshow": {
     "slide_type": "skip"
    }
   },
   "source": [
    "---"
   ]
  }
 ],
 "metadata": {
  "kernelspec": {
   "display_name": ".venv",
   "language": "python",
   "name": "python3"
  },
  "language_info": {
   "codemirror_mode": {
    "name": "ipython",
    "version": 3
   },
   "file_extension": ".py",
   "mimetype": "text/x-python",
   "name": "python",
   "nbconvert_exporter": "python",
   "pygments_lexer": "ipython3",
   "version": "3.8.20"
  },
  "toc": {
   "base_numbering": 1,
   "nav_menu": {},
   "number_sections": true,
   "sideBar": true,
   "skip_h1_title": false,
   "title_cell": "Table of Contents",
   "title_sidebar": "Contents",
   "toc_cell": false,
   "toc_position": {},
   "toc_section_display": true,
   "toc_window_display": true
  }
 },
 "nbformat": 4,
 "nbformat_minor": 2
}
